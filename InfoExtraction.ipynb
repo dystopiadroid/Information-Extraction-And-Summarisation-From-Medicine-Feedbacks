{
  "cells": [
    {
      "cell_type": "markdown",
      "metadata": {
        "id": "CKRX-bAlyuF_"
      },
      "source": [
        "## **Installing and Importing necessary libraries**"
      ]
    },
    {
      "cell_type": "code",
      "execution_count": null,
      "metadata": {
        "colab": {
          "base_uri": "https://localhost:8080/"
        },
        "id": "mIITAstJ2jmu",
        "outputId": "6a5792f9-71c3-4510-8f3e-752222e9241b"
      },
      "outputs": [
        {
          "output_type": "stream",
          "name": "stdout",
          "text": [
            "Looking in indexes: https://pypi.org/simple, https://us-python.pkg.dev/colab-wheels/public/simple/\n",
            "Requirement already satisfied: sentence-transformers in /usr/local/lib/python3.7/dist-packages (2.2.2)\n",
            "Requirement already satisfied: scikit-learn in /usr/local/lib/python3.7/dist-packages (from sentence-transformers) (1.0.2)\n",
            "Requirement already satisfied: torch>=1.6.0 in /usr/local/lib/python3.7/dist-packages (from sentence-transformers) (1.12.1+cu113)\n",
            "Requirement already satisfied: torchvision in /usr/local/lib/python3.7/dist-packages (from sentence-transformers) (0.13.1+cu113)\n",
            "Requirement already satisfied: tqdm in /usr/local/lib/python3.7/dist-packages (from sentence-transformers) (4.64.1)\n",
            "Requirement already satisfied: sentencepiece in /usr/local/lib/python3.7/dist-packages (from sentence-transformers) (0.1.97)\n",
            "Requirement already satisfied: huggingface-hub>=0.4.0 in /usr/local/lib/python3.7/dist-packages (from sentence-transformers) (0.11.0)\n",
            "Requirement already satisfied: numpy in /usr/local/lib/python3.7/dist-packages (from sentence-transformers) (1.21.6)\n",
            "Requirement already satisfied: nltk in /usr/local/lib/python3.7/dist-packages (from sentence-transformers) (3.7)\n",
            "Requirement already satisfied: scipy in /usr/local/lib/python3.7/dist-packages (from sentence-transformers) (1.7.3)\n",
            "Requirement already satisfied: transformers<5.0.0,>=4.6.0 in /usr/local/lib/python3.7/dist-packages (from sentence-transformers) (4.24.0)\n",
            "Requirement already satisfied: pyyaml>=5.1 in /usr/local/lib/python3.7/dist-packages (from huggingface-hub>=0.4.0->sentence-transformers) (6.0)\n",
            "Requirement already satisfied: importlib-metadata in /usr/local/lib/python3.7/dist-packages (from huggingface-hub>=0.4.0->sentence-transformers) (4.13.0)\n",
            "Requirement already satisfied: filelock in /usr/local/lib/python3.7/dist-packages (from huggingface-hub>=0.4.0->sentence-transformers) (3.8.0)\n",
            "Requirement already satisfied: requests in /usr/local/lib/python3.7/dist-packages (from huggingface-hub>=0.4.0->sentence-transformers) (2.23.0)\n",
            "Requirement already satisfied: typing-extensions>=3.7.4.3 in /usr/local/lib/python3.7/dist-packages (from huggingface-hub>=0.4.0->sentence-transformers) (4.1.1)\n",
            "Requirement already satisfied: packaging>=20.9 in /usr/local/lib/python3.7/dist-packages (from huggingface-hub>=0.4.0->sentence-transformers) (21.3)\n",
            "Requirement already satisfied: pyparsing!=3.0.5,>=2.0.2 in /usr/local/lib/python3.7/dist-packages (from packaging>=20.9->huggingface-hub>=0.4.0->sentence-transformers) (3.0.9)\n",
            "Requirement already satisfied: regex!=2019.12.17 in /usr/local/lib/python3.7/dist-packages (from transformers<5.0.0,>=4.6.0->sentence-transformers) (2022.6.2)\n",
            "Requirement already satisfied: tokenizers!=0.11.3,<0.14,>=0.11.1 in /usr/local/lib/python3.7/dist-packages (from transformers<5.0.0,>=4.6.0->sentence-transformers) (0.13.2)\n",
            "Requirement already satisfied: zipp>=0.5 in /usr/local/lib/python3.7/dist-packages (from importlib-metadata->huggingface-hub>=0.4.0->sentence-transformers) (3.10.0)\n",
            "Requirement already satisfied: joblib in /usr/local/lib/python3.7/dist-packages (from nltk->sentence-transformers) (1.2.0)\n",
            "Requirement already satisfied: click in /usr/local/lib/python3.7/dist-packages (from nltk->sentence-transformers) (7.1.2)\n",
            "Requirement already satisfied: idna<3,>=2.5 in /usr/local/lib/python3.7/dist-packages (from requests->huggingface-hub>=0.4.0->sentence-transformers) (2.10)\n",
            "Requirement already satisfied: urllib3!=1.25.0,!=1.25.1,<1.26,>=1.21.1 in /usr/local/lib/python3.7/dist-packages (from requests->huggingface-hub>=0.4.0->sentence-transformers) (1.24.3)\n",
            "Requirement already satisfied: certifi>=2017.4.17 in /usr/local/lib/python3.7/dist-packages (from requests->huggingface-hub>=0.4.0->sentence-transformers) (2022.9.24)\n",
            "Requirement already satisfied: chardet<4,>=3.0.2 in /usr/local/lib/python3.7/dist-packages (from requests->huggingface-hub>=0.4.0->sentence-transformers) (3.0.4)\n",
            "Requirement already satisfied: threadpoolctl>=2.0.0 in /usr/local/lib/python3.7/dist-packages (from scikit-learn->sentence-transformers) (3.1.0)\n",
            "Requirement already satisfied: pillow!=8.3.*,>=5.3.0 in /usr/local/lib/python3.7/dist-packages (from torchvision->sentence-transformers) (7.1.2)\n",
            "Looking in indexes: https://pypi.org/simple, https://us-python.pkg.dev/colab-wheels/public/simple/\n",
            "Requirement already satisfied: rake-nltk in /usr/local/lib/python3.7/dist-packages (1.0.6)\n",
            "Requirement already satisfied: nltk<4.0.0,>=3.6.2 in /usr/local/lib/python3.7/dist-packages (from rake-nltk) (3.7)\n",
            "Requirement already satisfied: joblib in /usr/local/lib/python3.7/dist-packages (from nltk<4.0.0,>=3.6.2->rake-nltk) (1.2.0)\n",
            "Requirement already satisfied: click in /usr/local/lib/python3.7/dist-packages (from nltk<4.0.0,>=3.6.2->rake-nltk) (7.1.2)\n",
            "Requirement already satisfied: tqdm in /usr/local/lib/python3.7/dist-packages (from nltk<4.0.0,>=3.6.2->rake-nltk) (4.64.1)\n",
            "Requirement already satisfied: regex>=2021.8.3 in /usr/local/lib/python3.7/dist-packages (from nltk<4.0.0,>=3.6.2->rake-nltk) (2022.6.2)\n"
          ]
        }
      ],
      "source": [
        "!pip install -U sentence-transformers\n",
        "!pip install rake-nltk"
      ]
    },
    {
      "cell_type": "code",
      "execution_count": null,
      "metadata": {
        "colab": {
          "base_uri": "https://localhost:8080/"
        },
        "id": "rXMjLZWP2jmv",
        "outputId": "9a720c36-c0a9-4cf5-9765-35665b9de98a"
      },
      "outputs": [
        {
          "output_type": "stream",
          "name": "stderr",
          "text": [
            "[nltk_data] Downloading package punkt to /root/nltk_data...\n",
            "[nltk_data]   Package punkt is already up-to-date!\n",
            "[nltk_data] Downloading package stopwords to /root/nltk_data...\n",
            "[nltk_data]   Package stopwords is already up-to-date!\n",
            "[nltk_data] Downloading package averaged_perceptron_tagger to\n",
            "[nltk_data]     /root/nltk_data...\n",
            "[nltk_data]   Package averaged_perceptron_tagger is already up-to-\n",
            "[nltk_data]       date!\n"
          ]
        }
      ],
      "source": [
        "import pandas as pd \n",
        "import seaborn as sns\n",
        "import re\n",
        "import string\n",
        "from string import punctuation\n",
        "import nltk\n",
        "import spacy\n",
        "from nltk.tokenize import sent_tokenize, word_tokenize\n",
        "from nltk.corpus import stopwords\n",
        "from gensim.models import Word2Vec\n",
        "nltk.download('punkt')\n",
        "nltk.download(\"stopwords\")\n",
        "nltk.download('averaged_perceptron_tagger')\n",
        "import matplotlib.pyplot as plt\n",
        "import numpy as np\n",
        "from sklearn.cluster import KMeans\n",
        "from scipy.spatial import distance\n",
        "from sklearn.model_selection import train_test_split\n",
        "from sklearn.feature_extraction.text import CountVectorizer\n",
        "from sklearn.feature_extraction.text import TfidfTransformer\n",
        "from nltk import tokenize\n",
        "from operator import itemgetter\n",
        "import math\n",
        "from nltk.tokenize import word_tokenize \n",
        "stop_words = set(stopwords.words('english'))\n",
        "from rake_nltk import Rake\n",
        "from sentence_transformers import SentenceTransformer\n",
        "from sklearn.cluster import KMeans\n",
        "from sklearn.feature_extraction.text import CountVectorizer\n",
        "from sklearn.metrics.pairwise import cosine_similarity\n",
        "from sklearn.cluster import AgglomerativeClustering\n",
        "from numpy import unique"
      ]
    },
    {
      "cell_type": "markdown",
      "metadata": {
        "id": "Ztp16yJoy_Tr"
      },
      "source": [
        "## **Reading the Dataset**"
      ]
    },
    {
      "cell_type": "code",
      "source": [
        "from google.colab import drive\n",
        "drive.mount('/content/drive')"
      ],
      "metadata": {
        "colab": {
          "base_uri": "https://localhost:8080/"
        },
        "id": "IxnoaXGXEOCP",
        "outputId": "d65749b8-174c-47ec-88d6-089cd4c914cf"
      },
      "execution_count": null,
      "outputs": [
        {
          "output_type": "stream",
          "name": "stdout",
          "text": [
            "Drive already mounted at /content/drive; to attempt to forcibly remount, call drive.mount(\"/content/drive\", force_remount=True).\n"
          ]
        }
      ]
    },
    {
      "cell_type": "code",
      "execution_count": null,
      "metadata": {
        "id": "5EkYMwE62jmw"
      },
      "outputs": [],
      "source": [
        "data=pd.read_csv(\"/content/drive/MyDrive/drugsComTest_raw.csv\")"
      ]
    },
    {
      "cell_type": "markdown",
      "metadata": {
        "id": "3-nmJe-VzJ0X"
      },
      "source": [
        "## **Pre-processing the data**"
      ]
    },
    {
      "cell_type": "markdown",
      "metadata": {
        "id": "X-3a3f2F2QUv"
      },
      "source": [
        "### **Removing symbols**"
      ]
    },
    {
      "cell_type": "code",
      "execution_count": null,
      "metadata": {
        "colab": {
          "base_uri": "https://localhost:8080/",
          "height": 424
        },
        "id": "k23U2ldV2jmx",
        "outputId": "b7cb3e96-ca65-4578-a454-4c394abc70f1"
      },
      "outputs": [
        {
          "output_type": "execute_result",
          "data": {
            "text/plain": [
              "              drugName                                             review\n",
              "0          Mirtazapine  I've tried a few antidepressants over the year...\n",
              "1           Mesalamine  My son has Crohn's disease and has done very w...\n",
              "2              Bactrim                        Quick reduction of symptoms\n",
              "3             Contrave  Contrave combines drugs that were used for alc...\n",
              "4      Cyclafem 1 / 35  I have been on this birth control for one cycl...\n",
              "...                ...                                                ...\n",
              "53761        Tamoxifen  I have taken Tamoxifen for 5 years. Side effec...\n",
              "53762     Escitalopram  I've been taking Lexapro (escitaploprgram) sin...\n",
              "53763   Levonorgestrel  I'm married 34 years old and I have no kids. T...\n",
              "53764       Tapentadol  I was prescribed Nucynta for severe neck/shoul...\n",
              "53765        Arthrotec                                        It works...\n",
              "\n",
              "[53766 rows x 2 columns]"
            ],
            "text/html": [
              "\n",
              "  <div id=\"df-7b26ddca-99d3-4bfd-b4f1-f5b086d173ae\">\n",
              "    <div class=\"colab-df-container\">\n",
              "      <div>\n",
              "<style scoped>\n",
              "    .dataframe tbody tr th:only-of-type {\n",
              "        vertical-align: middle;\n",
              "    }\n",
              "\n",
              "    .dataframe tbody tr th {\n",
              "        vertical-align: top;\n",
              "    }\n",
              "\n",
              "    .dataframe thead th {\n",
              "        text-align: right;\n",
              "    }\n",
              "</style>\n",
              "<table border=\"1\" class=\"dataframe\">\n",
              "  <thead>\n",
              "    <tr style=\"text-align: right;\">\n",
              "      <th></th>\n",
              "      <th>drugName</th>\n",
              "      <th>review</th>\n",
              "    </tr>\n",
              "  </thead>\n",
              "  <tbody>\n",
              "    <tr>\n",
              "      <th>0</th>\n",
              "      <td>Mirtazapine</td>\n",
              "      <td>I've tried a few antidepressants over the year...</td>\n",
              "    </tr>\n",
              "    <tr>\n",
              "      <th>1</th>\n",
              "      <td>Mesalamine</td>\n",
              "      <td>My son has Crohn's disease and has done very w...</td>\n",
              "    </tr>\n",
              "    <tr>\n",
              "      <th>2</th>\n",
              "      <td>Bactrim</td>\n",
              "      <td>Quick reduction of symptoms</td>\n",
              "    </tr>\n",
              "    <tr>\n",
              "      <th>3</th>\n",
              "      <td>Contrave</td>\n",
              "      <td>Contrave combines drugs that were used for alc...</td>\n",
              "    </tr>\n",
              "    <tr>\n",
              "      <th>4</th>\n",
              "      <td>Cyclafem 1 / 35</td>\n",
              "      <td>I have been on this birth control for one cycl...</td>\n",
              "    </tr>\n",
              "    <tr>\n",
              "      <th>...</th>\n",
              "      <td>...</td>\n",
              "      <td>...</td>\n",
              "    </tr>\n",
              "    <tr>\n",
              "      <th>53761</th>\n",
              "      <td>Tamoxifen</td>\n",
              "      <td>I have taken Tamoxifen for 5 years. Side effec...</td>\n",
              "    </tr>\n",
              "    <tr>\n",
              "      <th>53762</th>\n",
              "      <td>Escitalopram</td>\n",
              "      <td>I've been taking Lexapro (escitaploprgram) sin...</td>\n",
              "    </tr>\n",
              "    <tr>\n",
              "      <th>53763</th>\n",
              "      <td>Levonorgestrel</td>\n",
              "      <td>I'm married 34 years old and I have no kids. T...</td>\n",
              "    </tr>\n",
              "    <tr>\n",
              "      <th>53764</th>\n",
              "      <td>Tapentadol</td>\n",
              "      <td>I was prescribed Nucynta for severe neck/shoul...</td>\n",
              "    </tr>\n",
              "    <tr>\n",
              "      <th>53765</th>\n",
              "      <td>Arthrotec</td>\n",
              "      <td>It works...</td>\n",
              "    </tr>\n",
              "  </tbody>\n",
              "</table>\n",
              "<p>53766 rows × 2 columns</p>\n",
              "</div>\n",
              "      <button class=\"colab-df-convert\" onclick=\"convertToInteractive('df-7b26ddca-99d3-4bfd-b4f1-f5b086d173ae')\"\n",
              "              title=\"Convert this dataframe to an interactive table.\"\n",
              "              style=\"display:none;\">\n",
              "        \n",
              "  <svg xmlns=\"http://www.w3.org/2000/svg\" height=\"24px\"viewBox=\"0 0 24 24\"\n",
              "       width=\"24px\">\n",
              "    <path d=\"M0 0h24v24H0V0z\" fill=\"none\"/>\n",
              "    <path d=\"M18.56 5.44l.94 2.06.94-2.06 2.06-.94-2.06-.94-.94-2.06-.94 2.06-2.06.94zm-11 1L8.5 8.5l.94-2.06 2.06-.94-2.06-.94L8.5 2.5l-.94 2.06-2.06.94zm10 10l.94 2.06.94-2.06 2.06-.94-2.06-.94-.94-2.06-.94 2.06-2.06.94z\"/><path d=\"M17.41 7.96l-1.37-1.37c-.4-.4-.92-.59-1.43-.59-.52 0-1.04.2-1.43.59L10.3 9.45l-7.72 7.72c-.78.78-.78 2.05 0 2.83L4 21.41c.39.39.9.59 1.41.59.51 0 1.02-.2 1.41-.59l7.78-7.78 2.81-2.81c.8-.78.8-2.07 0-2.86zM5.41 20L4 18.59l7.72-7.72 1.47 1.35L5.41 20z\"/>\n",
              "  </svg>\n",
              "      </button>\n",
              "      \n",
              "  <style>\n",
              "    .colab-df-container {\n",
              "      display:flex;\n",
              "      flex-wrap:wrap;\n",
              "      gap: 12px;\n",
              "    }\n",
              "\n",
              "    .colab-df-convert {\n",
              "      background-color: #E8F0FE;\n",
              "      border: none;\n",
              "      border-radius: 50%;\n",
              "      cursor: pointer;\n",
              "      display: none;\n",
              "      fill: #1967D2;\n",
              "      height: 32px;\n",
              "      padding: 0 0 0 0;\n",
              "      width: 32px;\n",
              "    }\n",
              "\n",
              "    .colab-df-convert:hover {\n",
              "      background-color: #E2EBFA;\n",
              "      box-shadow: 0px 1px 2px rgba(60, 64, 67, 0.3), 0px 1px 3px 1px rgba(60, 64, 67, 0.15);\n",
              "      fill: #174EA6;\n",
              "    }\n",
              "\n",
              "    [theme=dark] .colab-df-convert {\n",
              "      background-color: #3B4455;\n",
              "      fill: #D2E3FC;\n",
              "    }\n",
              "\n",
              "    [theme=dark] .colab-df-convert:hover {\n",
              "      background-color: #434B5C;\n",
              "      box-shadow: 0px 1px 3px 1px rgba(0, 0, 0, 0.15);\n",
              "      filter: drop-shadow(0px 1px 2px rgba(0, 0, 0, 0.3));\n",
              "      fill: #FFFFFF;\n",
              "    }\n",
              "  </style>\n",
              "\n",
              "      <script>\n",
              "        const buttonEl =\n",
              "          document.querySelector('#df-7b26ddca-99d3-4bfd-b4f1-f5b086d173ae button.colab-df-convert');\n",
              "        buttonEl.style.display =\n",
              "          google.colab.kernel.accessAllowed ? 'block' : 'none';\n",
              "\n",
              "        async function convertToInteractive(key) {\n",
              "          const element = document.querySelector('#df-7b26ddca-99d3-4bfd-b4f1-f5b086d173ae');\n",
              "          const dataTable =\n",
              "            await google.colab.kernel.invokeFunction('convertToInteractive',\n",
              "                                                     [key], {});\n",
              "          if (!dataTable) return;\n",
              "\n",
              "          const docLinkHtml = 'Like what you see? Visit the ' +\n",
              "            '<a target=\"_blank\" href=https://colab.research.google.com/notebooks/data_table.ipynb>data table notebook</a>'\n",
              "            + ' to learn more about interactive tables.';\n",
              "          element.innerHTML = '';\n",
              "          dataTable['output_type'] = 'display_data';\n",
              "          await google.colab.output.renderOutput(dataTable, element);\n",
              "          const docLink = document.createElement('div');\n",
              "          docLink.innerHTML = docLinkHtml;\n",
              "          element.appendChild(docLink);\n",
              "        }\n",
              "      </script>\n",
              "    </div>\n",
              "  </div>\n",
              "  "
            ]
          },
          "metadata": {},
          "execution_count": 5
        }
      ],
      "source": [
        "df=pd.DataFrame(data=(data[\"drugName\"],data[\"review\"]))\n",
        "df=df.T\n",
        "for i in df.index:\n",
        "  df['review'][i]=df['review'][i].replace(\"&#039;\",\"'\")\n",
        "  df['review'][i]=df['review'][i].replace(\",\",\"\")\n",
        "  df['review'][i]=df['review'][i].replace(\"\\\\\",\"\")\n",
        "  df['review'][i]=df['review'][i].replace(\"\\\"\",\"\")\n",
        "  df['review'][i]=df['review'][i].replace(\"\\\"]\",\"\")\n",
        "  df['review'][i]=df['review'][i].replace(\"[\\\"\",\"\")\n",
        "  df['review'][i]=df['review'][i].replace(\"!\",\".\")\n",
        "  df['review'][i]=df['review'][i].replace(\"?\",\".\")\n",
        "df"
      ]
    },
    {
      "cell_type": "markdown",
      "metadata": {
        "id": "RofIg8Ed1mWI"
      },
      "source": [
        "### **Grouping the data by medicine names**"
      ]
    },
    {
      "cell_type": "code",
      "source": [
        "df2 = df.groupby(\"drugName\") \n",
        "df_new = df2[\"review\"].apply(list) \n",
        "df_new = df_new.reset_index() \n",
        "df_new"
      ],
      "metadata": {
        "colab": {
          "base_uri": "https://localhost:8080/",
          "height": 424
        },
        "id": "EpRc-WDbA9MR",
        "outputId": "94eb81d7-903b-4a61-e31d-782e7d1c36a0"
      },
      "execution_count": null,
      "outputs": [
        {
          "output_type": "execute_result",
          "data": {
            "text/plain": [
              "                                  drugName  \\\n",
              "0                               A / B Otic   \n",
              "1     Abacavir / dolutegravir / lamivudine   \n",
              "2                    Abacavir / lamivudine   \n",
              "3                                Abatacept   \n",
              "4                                  Abilify   \n",
              "...                                    ...   \n",
              "2632                               ZzzQuil   \n",
              "2633                 depo-subQ provera 104   \n",
              "2634                                  ella   \n",
              "2635                                femhrt   \n",
              "2636                              pHisoHex   \n",
              "\n",
              "                                                 review  \n",
              "0     [These drops helped me so much. I was in sever...  \n",
              "1     [I discovered my new status in July 2017 VL 94...  \n",
              "2     [I've used this since first diagnosed and star...  \n",
              "3     [In UK had this on NHS for last 7 months. Impr...  \n",
              "4     [After having to pay a but load out of pocket ...  \n",
              "...                                                 ...  \n",
              "2632              [Gave me rapid heart beats .........]  \n",
              "2633  [Just recently have got Depo subQ provera for ...  \n",
              "2634  [Hello strangers. Im here to share my experien...  \n",
              "2635  [Hot flashes completely gone in less than 2 we...  \n",
              "2636  [Before Phisohex could only be purchased by pr...  \n",
              "\n",
              "[2637 rows x 2 columns]"
            ],
            "text/html": [
              "\n",
              "  <div id=\"df-57b1b53b-2eab-4ff3-ab90-d0920d4aed80\">\n",
              "    <div class=\"colab-df-container\">\n",
              "      <div>\n",
              "<style scoped>\n",
              "    .dataframe tbody tr th:only-of-type {\n",
              "        vertical-align: middle;\n",
              "    }\n",
              "\n",
              "    .dataframe tbody tr th {\n",
              "        vertical-align: top;\n",
              "    }\n",
              "\n",
              "    .dataframe thead th {\n",
              "        text-align: right;\n",
              "    }\n",
              "</style>\n",
              "<table border=\"1\" class=\"dataframe\">\n",
              "  <thead>\n",
              "    <tr style=\"text-align: right;\">\n",
              "      <th></th>\n",
              "      <th>drugName</th>\n",
              "      <th>review</th>\n",
              "    </tr>\n",
              "  </thead>\n",
              "  <tbody>\n",
              "    <tr>\n",
              "      <th>0</th>\n",
              "      <td>A / B Otic</td>\n",
              "      <td>[These drops helped me so much. I was in sever...</td>\n",
              "    </tr>\n",
              "    <tr>\n",
              "      <th>1</th>\n",
              "      <td>Abacavir / dolutegravir / lamivudine</td>\n",
              "      <td>[I discovered my new status in July 2017 VL 94...</td>\n",
              "    </tr>\n",
              "    <tr>\n",
              "      <th>2</th>\n",
              "      <td>Abacavir / lamivudine</td>\n",
              "      <td>[I've used this since first diagnosed and star...</td>\n",
              "    </tr>\n",
              "    <tr>\n",
              "      <th>3</th>\n",
              "      <td>Abatacept</td>\n",
              "      <td>[In UK had this on NHS for last 7 months. Impr...</td>\n",
              "    </tr>\n",
              "    <tr>\n",
              "      <th>4</th>\n",
              "      <td>Abilify</td>\n",
              "      <td>[After having to pay a but load out of pocket ...</td>\n",
              "    </tr>\n",
              "    <tr>\n",
              "      <th>...</th>\n",
              "      <td>...</td>\n",
              "      <td>...</td>\n",
              "    </tr>\n",
              "    <tr>\n",
              "      <th>2632</th>\n",
              "      <td>ZzzQuil</td>\n",
              "      <td>[Gave me rapid heart beats .........]</td>\n",
              "    </tr>\n",
              "    <tr>\n",
              "      <th>2633</th>\n",
              "      <td>depo-subQ provera 104</td>\n",
              "      <td>[Just recently have got Depo subQ provera for ...</td>\n",
              "    </tr>\n",
              "    <tr>\n",
              "      <th>2634</th>\n",
              "      <td>ella</td>\n",
              "      <td>[Hello strangers. Im here to share my experien...</td>\n",
              "    </tr>\n",
              "    <tr>\n",
              "      <th>2635</th>\n",
              "      <td>femhrt</td>\n",
              "      <td>[Hot flashes completely gone in less than 2 we...</td>\n",
              "    </tr>\n",
              "    <tr>\n",
              "      <th>2636</th>\n",
              "      <td>pHisoHex</td>\n",
              "      <td>[Before Phisohex could only be purchased by pr...</td>\n",
              "    </tr>\n",
              "  </tbody>\n",
              "</table>\n",
              "<p>2637 rows × 2 columns</p>\n",
              "</div>\n",
              "      <button class=\"colab-df-convert\" onclick=\"convertToInteractive('df-57b1b53b-2eab-4ff3-ab90-d0920d4aed80')\"\n",
              "              title=\"Convert this dataframe to an interactive table.\"\n",
              "              style=\"display:none;\">\n",
              "        \n",
              "  <svg xmlns=\"http://www.w3.org/2000/svg\" height=\"24px\"viewBox=\"0 0 24 24\"\n",
              "       width=\"24px\">\n",
              "    <path d=\"M0 0h24v24H0V0z\" fill=\"none\"/>\n",
              "    <path d=\"M18.56 5.44l.94 2.06.94-2.06 2.06-.94-2.06-.94-.94-2.06-.94 2.06-2.06.94zm-11 1L8.5 8.5l.94-2.06 2.06-.94-2.06-.94L8.5 2.5l-.94 2.06-2.06.94zm10 10l.94 2.06.94-2.06 2.06-.94-2.06-.94-.94-2.06-.94 2.06-2.06.94z\"/><path d=\"M17.41 7.96l-1.37-1.37c-.4-.4-.92-.59-1.43-.59-.52 0-1.04.2-1.43.59L10.3 9.45l-7.72 7.72c-.78.78-.78 2.05 0 2.83L4 21.41c.39.39.9.59 1.41.59.51 0 1.02-.2 1.41-.59l7.78-7.78 2.81-2.81c.8-.78.8-2.07 0-2.86zM5.41 20L4 18.59l7.72-7.72 1.47 1.35L5.41 20z\"/>\n",
              "  </svg>\n",
              "      </button>\n",
              "      \n",
              "  <style>\n",
              "    .colab-df-container {\n",
              "      display:flex;\n",
              "      flex-wrap:wrap;\n",
              "      gap: 12px;\n",
              "    }\n",
              "\n",
              "    .colab-df-convert {\n",
              "      background-color: #E8F0FE;\n",
              "      border: none;\n",
              "      border-radius: 50%;\n",
              "      cursor: pointer;\n",
              "      display: none;\n",
              "      fill: #1967D2;\n",
              "      height: 32px;\n",
              "      padding: 0 0 0 0;\n",
              "      width: 32px;\n",
              "    }\n",
              "\n",
              "    .colab-df-convert:hover {\n",
              "      background-color: #E2EBFA;\n",
              "      box-shadow: 0px 1px 2px rgba(60, 64, 67, 0.3), 0px 1px 3px 1px rgba(60, 64, 67, 0.15);\n",
              "      fill: #174EA6;\n",
              "    }\n",
              "\n",
              "    [theme=dark] .colab-df-convert {\n",
              "      background-color: #3B4455;\n",
              "      fill: #D2E3FC;\n",
              "    }\n",
              "\n",
              "    [theme=dark] .colab-df-convert:hover {\n",
              "      background-color: #434B5C;\n",
              "      box-shadow: 0px 1px 3px 1px rgba(0, 0, 0, 0.15);\n",
              "      filter: drop-shadow(0px 1px 2px rgba(0, 0, 0, 0.3));\n",
              "      fill: #FFFFFF;\n",
              "    }\n",
              "  </style>\n",
              "\n",
              "      <script>\n",
              "        const buttonEl =\n",
              "          document.querySelector('#df-57b1b53b-2eab-4ff3-ab90-d0920d4aed80 button.colab-df-convert');\n",
              "        buttonEl.style.display =\n",
              "          google.colab.kernel.accessAllowed ? 'block' : 'none';\n",
              "\n",
              "        async function convertToInteractive(key) {\n",
              "          const element = document.querySelector('#df-57b1b53b-2eab-4ff3-ab90-d0920d4aed80');\n",
              "          const dataTable =\n",
              "            await google.colab.kernel.invokeFunction('convertToInteractive',\n",
              "                                                     [key], {});\n",
              "          if (!dataTable) return;\n",
              "\n",
              "          const docLinkHtml = 'Like what you see? Visit the ' +\n",
              "            '<a target=\"_blank\" href=https://colab.research.google.com/notebooks/data_table.ipynb>data table notebook</a>'\n",
              "            + ' to learn more about interactive tables.';\n",
              "          element.innerHTML = '';\n",
              "          dataTable['output_type'] = 'display_data';\n",
              "          await google.colab.output.renderOutput(dataTable, element);\n",
              "          const docLink = document.createElement('div');\n",
              "          docLink.innerHTML = docLinkHtml;\n",
              "          element.appendChild(docLink);\n",
              "        }\n",
              "      </script>\n",
              "    </div>\n",
              "  </div>\n",
              "  "
            ]
          },
          "metadata": {},
          "execution_count": 6
        }
      ]
    },
    {
      "cell_type": "markdown",
      "metadata": {
        "id": "sBhdTcZ61rv0"
      },
      "source": [
        "### **Stopword Removal**"
      ]
    },
    {
      "cell_type": "code",
      "execution_count": null,
      "metadata": {
        "id": "GeQd3l702jmz"
      },
      "outputs": [],
      "source": [
        "def get_text_processing(text):\n",
        "    stpword = stopwords.words('english')\n",
        "    no_punctuation = [char for char in text if char not in string.punctuation]\n",
        "    no_punctuation = ''.join(no_punctuation)\n",
        "    return ' '.join([word for word in no_punctuation.split() if word.lower() not in stpword])"
      ]
    },
    {
      "cell_type": "markdown",
      "metadata": {
        "id": "L-3wlEkc1vdL"
      },
      "source": [
        "### **Creating a separate column for the refined text**"
      ]
    },
    {
      "cell_type": "code",
      "execution_count": null,
      "metadata": {
        "colab": {
          "base_uri": "https://localhost:8080/",
          "height": 206
        },
        "id": "o_qojlYb2jmz",
        "outputId": "1dbab715-bc2e-4f8c-b4c6-e01279666c1c"
      },
      "outputs": [
        {
          "output_type": "execute_result",
          "data": {
            "text/plain": [
              "                               drugName  \\\n",
              "0                            A / B Otic   \n",
              "1  Abacavir / dolutegravir / lamivudine   \n",
              "2                 Abacavir / lamivudine   \n",
              "3                             Abatacept   \n",
              "4                               Abilify   \n",
              "\n",
              "                                              review  \\\n",
              "0  [These drops helped me so much. I was in sever...   \n",
              "1  [I discovered my new status in July 2017 VL 94...   \n",
              "2  [I've used this since first diagnosed and star...   \n",
              "3  [In UK had this on NHS for last 7 months. Impr...   \n",
              "4  [After having to pay a but load out of pocket ...   \n",
              "\n",
              "                                                 rev  \n",
              "0  drops helped much. severe pain 8 days finally ...  \n",
              "1  discovered new status July 2017 VL 94K CD4 126...  \n",
              "2  I've used since first diagnosed starting HAART...  \n",
              "3  UK NHS last 7 months. Improved within first mo...  \n",
              "4  pay load pocket slowly found me. put hyper-man...  "
            ],
            "text/html": [
              "\n",
              "  <div id=\"df-abd5683d-3c41-4689-8247-7526e2920c2a\">\n",
              "    <div class=\"colab-df-container\">\n",
              "      <div>\n",
              "<style scoped>\n",
              "    .dataframe tbody tr th:only-of-type {\n",
              "        vertical-align: middle;\n",
              "    }\n",
              "\n",
              "    .dataframe tbody tr th {\n",
              "        vertical-align: top;\n",
              "    }\n",
              "\n",
              "    .dataframe thead th {\n",
              "        text-align: right;\n",
              "    }\n",
              "</style>\n",
              "<table border=\"1\" class=\"dataframe\">\n",
              "  <thead>\n",
              "    <tr style=\"text-align: right;\">\n",
              "      <th></th>\n",
              "      <th>drugName</th>\n",
              "      <th>review</th>\n",
              "      <th>rev</th>\n",
              "    </tr>\n",
              "  </thead>\n",
              "  <tbody>\n",
              "    <tr>\n",
              "      <th>0</th>\n",
              "      <td>A / B Otic</td>\n",
              "      <td>[These drops helped me so much. I was in sever...</td>\n",
              "      <td>drops helped much. severe pain 8 days finally ...</td>\n",
              "    </tr>\n",
              "    <tr>\n",
              "      <th>1</th>\n",
              "      <td>Abacavir / dolutegravir / lamivudine</td>\n",
              "      <td>[I discovered my new status in July 2017 VL 94...</td>\n",
              "      <td>discovered new status July 2017 VL 94K CD4 126...</td>\n",
              "    </tr>\n",
              "    <tr>\n",
              "      <th>2</th>\n",
              "      <td>Abacavir / lamivudine</td>\n",
              "      <td>[I've used this since first diagnosed and star...</td>\n",
              "      <td>I've used since first diagnosed starting HAART...</td>\n",
              "    </tr>\n",
              "    <tr>\n",
              "      <th>3</th>\n",
              "      <td>Abatacept</td>\n",
              "      <td>[In UK had this on NHS for last 7 months. Impr...</td>\n",
              "      <td>UK NHS last 7 months. Improved within first mo...</td>\n",
              "    </tr>\n",
              "    <tr>\n",
              "      <th>4</th>\n",
              "      <td>Abilify</td>\n",
              "      <td>[After having to pay a but load out of pocket ...</td>\n",
              "      <td>pay load pocket slowly found me. put hyper-man...</td>\n",
              "    </tr>\n",
              "  </tbody>\n",
              "</table>\n",
              "</div>\n",
              "      <button class=\"colab-df-convert\" onclick=\"convertToInteractive('df-abd5683d-3c41-4689-8247-7526e2920c2a')\"\n",
              "              title=\"Convert this dataframe to an interactive table.\"\n",
              "              style=\"display:none;\">\n",
              "        \n",
              "  <svg xmlns=\"http://www.w3.org/2000/svg\" height=\"24px\"viewBox=\"0 0 24 24\"\n",
              "       width=\"24px\">\n",
              "    <path d=\"M0 0h24v24H0V0z\" fill=\"none\"/>\n",
              "    <path d=\"M18.56 5.44l.94 2.06.94-2.06 2.06-.94-2.06-.94-.94-2.06-.94 2.06-2.06.94zm-11 1L8.5 8.5l.94-2.06 2.06-.94-2.06-.94L8.5 2.5l-.94 2.06-2.06.94zm10 10l.94 2.06.94-2.06 2.06-.94-2.06-.94-.94-2.06-.94 2.06-2.06.94z\"/><path d=\"M17.41 7.96l-1.37-1.37c-.4-.4-.92-.59-1.43-.59-.52 0-1.04.2-1.43.59L10.3 9.45l-7.72 7.72c-.78.78-.78 2.05 0 2.83L4 21.41c.39.39.9.59 1.41.59.51 0 1.02-.2 1.41-.59l7.78-7.78 2.81-2.81c.8-.78.8-2.07 0-2.86zM5.41 20L4 18.59l7.72-7.72 1.47 1.35L5.41 20z\"/>\n",
              "  </svg>\n",
              "      </button>\n",
              "      \n",
              "  <style>\n",
              "    .colab-df-container {\n",
              "      display:flex;\n",
              "      flex-wrap:wrap;\n",
              "      gap: 12px;\n",
              "    }\n",
              "\n",
              "    .colab-df-convert {\n",
              "      background-color: #E8F0FE;\n",
              "      border: none;\n",
              "      border-radius: 50%;\n",
              "      cursor: pointer;\n",
              "      display: none;\n",
              "      fill: #1967D2;\n",
              "      height: 32px;\n",
              "      padding: 0 0 0 0;\n",
              "      width: 32px;\n",
              "    }\n",
              "\n",
              "    .colab-df-convert:hover {\n",
              "      background-color: #E2EBFA;\n",
              "      box-shadow: 0px 1px 2px rgba(60, 64, 67, 0.3), 0px 1px 3px 1px rgba(60, 64, 67, 0.15);\n",
              "      fill: #174EA6;\n",
              "    }\n",
              "\n",
              "    [theme=dark] .colab-df-convert {\n",
              "      background-color: #3B4455;\n",
              "      fill: #D2E3FC;\n",
              "    }\n",
              "\n",
              "    [theme=dark] .colab-df-convert:hover {\n",
              "      background-color: #434B5C;\n",
              "      box-shadow: 0px 1px 3px 1px rgba(0, 0, 0, 0.15);\n",
              "      filter: drop-shadow(0px 1px 2px rgba(0, 0, 0, 0.3));\n",
              "      fill: #FFFFFF;\n",
              "    }\n",
              "  </style>\n",
              "\n",
              "      <script>\n",
              "        const buttonEl =\n",
              "          document.querySelector('#df-abd5683d-3c41-4689-8247-7526e2920c2a button.colab-df-convert');\n",
              "        buttonEl.style.display =\n",
              "          google.colab.kernel.accessAllowed ? 'block' : 'none';\n",
              "\n",
              "        async function convertToInteractive(key) {\n",
              "          const element = document.querySelector('#df-abd5683d-3c41-4689-8247-7526e2920c2a');\n",
              "          const dataTable =\n",
              "            await google.colab.kernel.invokeFunction('convertToInteractive',\n",
              "                                                     [key], {});\n",
              "          if (!dataTable) return;\n",
              "\n",
              "          const docLinkHtml = 'Like what you see? Visit the ' +\n",
              "            '<a target=\"_blank\" href=https://colab.research.google.com/notebooks/data_table.ipynb>data table notebook</a>'\n",
              "            + ' to learn more about interactive tables.';\n",
              "          element.innerHTML = '';\n",
              "          dataTable['output_type'] = 'display_data';\n",
              "          await google.colab.output.renderOutput(dataTable, element);\n",
              "          const docLink = document.createElement('div');\n",
              "          docLink.innerHTML = docLinkHtml;\n",
              "          element.appendChild(docLink);\n",
              "        }\n",
              "      </script>\n",
              "    </div>\n",
              "  </div>\n",
              "  "
            ]
          },
          "metadata": {},
          "execution_count": 8
        }
      ],
      "source": [
        "df_new['rev'] = df_new['review'].apply(get_text_processing)\n",
        "df_new.head()"
      ]
    },
    {
      "cell_type": "markdown",
      "metadata": {
        "id": "5CLni2dUWmro"
      },
      "source": [
        "## **Feature Extraction**"
      ]
    },
    {
      "cell_type": "markdown",
      "metadata": {
        "id": "3EodVOHF0cvo"
      },
      "source": [
        "### **Extracting keywords using BERT and RAKE**"
      ]
    },
    {
      "cell_type": "code",
      "execution_count": null,
      "metadata": {
        "id": "iNGyDVVJiL18"
      },
      "outputs": [],
      "source": [
        "bertmodel = SentenceTransformer('distilbert-base-nli-mean-tokens')"
      ]
    },
    {
      "cell_type": "code",
      "source": [
        "embedder = SentenceTransformer('distilbert-base-nli-stsb-mean-tokens')"
      ],
      "metadata": {
        "id": "B8hq3SGcHACl"
      },
      "execution_count": null,
      "outputs": []
    },
    {
      "cell_type": "code",
      "execution_count": null,
      "metadata": {
        "id": "UiAEJd0Gh3Er"
      },
      "outputs": [],
      "source": [
        "def key(text):\n",
        "  r = Rake()\n",
        "  temp=text.split(' ')\n",
        "  a=[]\n",
        "  r.extract_keywords_from_sentences(temp)\n",
        "  # To get keyword phrases ranked highest to lowest.\n",
        "  r.get_ranked_phrases()\n",
        "  rakew=[]\n",
        "  # To get keyword phrases ranked highest to lowest with scores.\n",
        "  a=r.get_ranked_phrases()\n",
        "  t = 20\n",
        "  if(len(a)<20):\n",
        "    t = len(a)\n",
        "  for i in range(0,t):\n",
        "    rakew.append(a[i])\n",
        "  \n",
        "  temp=text.split(\".\")\n",
        "  all_words = [i for i in temp]\n",
        "  sent_vector=[]\n",
        "  temp=text.split(\".\")\n",
        "  t=''\n",
        "  for i in temp:\n",
        "    t+=i\n",
        "\n",
        "  n_gram_range = (1, 1)\n",
        "  stop_words = \"english\"\n",
        "\n",
        "  # Extract candidate words/phrases\n",
        "  count = CountVectorizer(ngram_range=n_gram_range, stop_words=stop_words).fit([t])\n",
        "  candidates = count.get_feature_names()\n",
        "\n",
        "  doc_embedding = bertmodel.encode([t])\n",
        "  candidate_embeddings = bertmodel.encode(candidates)\n",
        "\n",
        "  top_n = 15\n",
        "  distances = cosine_similarity(doc_embedding, candidate_embeddings)\n",
        "  keywords = [candidates[index] for index in distances.argsort()[0][-top_n:]]\n",
        "\n",
        "  f_keywords = list(keywords+rakew)\n",
        "\n",
        "  return f_keywords"
      ]
    },
    {
      "cell_type": "markdown",
      "metadata": {
        "id": "HJMLJ3VL0QsP"
      },
      "source": [
        "### **Calculating TF-IDF values for the keywords**"
      ]
    },
    {
      "cell_type": "code",
      "execution_count": null,
      "metadata": {
        "id": "NEdb4u8hG8yG"
      },
      "outputs": [],
      "source": [
        "def check_sent(word, sentences): \n",
        "    final = [all([w in x for w in word]) for x in sentences] \n",
        "    sent_len = [sentences[i] for i in range(0, len(final)) if final[i]]\n",
        "    return int(len(sent_len))\n",
        "\n",
        "def get_top_n(dict_elem, n):\n",
        "    result = dict(sorted(dict_elem.items(), key = itemgetter(1), reverse = True)[:n]) \n",
        "    return result.keys()\n",
        "    \n",
        "def caltfidf(total_words,text):\n",
        "  total_word_length = len(total_words)\n",
        "  total_sentences = tokenize.sent_tokenize(text)\n",
        "  total_sent_len = len(total_sentences)\n",
        "\n",
        "  tf_score = {}\n",
        "  for each_word in total_words:\n",
        "      each_word = each_word.replace('.','')\n",
        "      if each_word not in stop_words:\n",
        "          if each_word in tf_score:\n",
        "              tf_score[each_word] += 1\n",
        "          else:\n",
        "              tf_score[each_word] = 1\n",
        "\n",
        "  # Dividing by total_word_length for each dictionary element\n",
        "  tf_score.update((x, y/int(total_word_length)) for x, y in tf_score.items())\n",
        "\n",
        "  idf_score = {}\n",
        "  for each_word in total_words:\n",
        "      each_word = each_word.replace('.','')\n",
        "      if each_word not in stop_words:\n",
        "          if each_word in idf_score:\n",
        "              idf_score[each_word] = check_sent(each_word, total_sentences)\n",
        "          else:\n",
        "              idf_score[each_word] = 1\n",
        "\n",
        "  # Performing a log and divide\n",
        "  idf_score.update((x, math.log(int(total_sent_len)/y)) for x, y in idf_score.items())\n",
        "\n",
        "\n",
        "  tf_idf_score = {key: tf_score[key] * idf_score.get(key, 0) for key in tf_score.keys()}\n",
        "\n",
        "  t = 25\n",
        "  if(len(tf_idf_score)<25):\n",
        "    t = len(tf_idf_score)\n",
        "\n",
        "  tfidfw=list(get_top_n(tf_idf_score, t))\n",
        "  return tfidfw"
      ]
    },
    {
      "cell_type": "markdown",
      "metadata": {
        "id": "-4gLIVyE00m9"
      },
      "source": [
        "### **POS Tagging the resultant keywords**"
      ]
    },
    {
      "cell_type": "code",
      "execution_count": null,
      "metadata": {
        "id": "l56K5GzOGPOA"
      },
      "outputs": [],
      "source": [
        "def features(text):\n",
        "  f_keywords = key(text)\n",
        "  tfidfw = caltfidf(f_keywords,text)\n",
        "  tfidfw = \" \".join(tfidfw)\n",
        "\n",
        "  stop_words = set(stopwords.words('english'))\n",
        "\n",
        "  tokenized = sent_tokenize(tfidfw)\n",
        "\n",
        "  for i in tokenized:\n",
        "    wordsList = nltk.word_tokenize(i)\n",
        "\n",
        "    wordsList = [w for w in wordsList if not w in stop_words]\n",
        "\n",
        "    tagged = nltk.pos_tag(wordsList)\n",
        "\n",
        "\n",
        "  \n",
        "  for i in range(0,len(tagged)):\n",
        "    if(tagged[i][1]=='JJ' or tagged[i][1]=='NN' or tagged[i][1]=='VBP' or tagged[i][1]=='VBG'):\n",
        "      print(tagged[i][0])"
      ]
    },
    {
      "cell_type": "markdown",
      "metadata": {
        "id": "a_i_CcCh1UwV"
      },
      "source": [
        "### **Removing Stopwords from the given text**"
      ]
    },
    {
      "cell_type": "code",
      "execution_count": null,
      "metadata": {
        "id": "iE5jq5i1w3LI"
      },
      "outputs": [],
      "source": [
        "def findFeatures(text):\n",
        "    stpword = stopwords.words('english')\n",
        "    no_punctuation = [char for char in text if char not in string.punctuation]\n",
        "    no_punctuation = ''.join(no_punctuation)\n",
        "    finalText = ' '.join([word for word in no_punctuation.split() if word.lower() not in stpword])\n",
        "\n",
        "    features(finalText)"
      ]
    },
    {
      "cell_type": "markdown",
      "metadata": {
        "id": "BCnko2s41BfF"
      },
      "source": [
        "### **Feature Extraction for the reviews from the dataset**"
      ]
    },
    {
      "cell_type": "code",
      "execution_count": null,
      "metadata": {
        "colab": {
          "base_uri": "https://localhost:8080/"
        },
        "id": "diH9q9H9i8Z2",
        "outputId": "a23cc63b-e309-407f-b05f-bdecffed4054"
      },
      "outputs": [
        {
          "output_type": "stream",
          "name": "stderr",
          "text": [
            "/usr/local/lib/python3.7/dist-packages/sklearn/utils/deprecation.py:87: FutureWarning: Function get_feature_names is deprecated; get_feature_names is deprecated in 1.0 and will be removed in 1.2. Please use get_feature_names_out instead.\n",
            "  warnings.warn(msg, category=FutureWarning)\n"
          ]
        },
        {
          "output_type": "stream",
          "name": "stdout",
          "text": [
            "sleep\n",
            "day\n",
            "expensive\n",
            "drowsiness\n",
            "used\n",
            "side\n",
            "return\n",
            "study\n",
            "life\n",
            "reluctant\n",
            "sex\n",
            "work\n",
            "medication\n",
            "want\n"
          ]
        }
      ],
      "source": [
        "test = 6\n",
        "text = ' '.join([line for line in df_new['review'][test]])\n",
        "features(text)"
      ]
    },
    {
      "cell_type": "markdown",
      "metadata": {
        "id": "Xn-zv_zV1KCG"
      },
      "source": [
        "### **Feature Extraction for user input text**"
      ]
    },
    {
      "cell_type": "code",
      "execution_count": null,
      "metadata": {
        "colab": {
          "base_uri": "https://localhost:8080/"
        },
        "id": "6zdORo3lw5X-",
        "outputId": "a104c29f-a529-43fe-a8b7-70d666f67b6b"
      },
      "outputs": [
        {
          "output_type": "stream",
          "name": "stderr",
          "text": [
            "/usr/local/lib/python3.7/dist-packages/sklearn/utils/deprecation.py:87: FutureWarning: Function get_feature_names is deprecated; get_feature_names is deprecated in 1.0 and will be removed in 1.2. Please use get_feature_names_out instead.\n",
            "  warnings.warn(msg, category=FutureWarning)\n"
          ]
        },
        {
          "output_type": "stream",
          "name": "stdout",
          "text": [
            "combination\n",
            "actual\n",
            "appear\n",
            "affixes\n",
            "level\n",
            "form\n",
            "realization\n",
            "final\n",
            "surface\n",
            "lexical\n",
            "boundary\n"
          ]
        }
      ],
      "source": [
        "text = \"The surface level is the actual realization of words as they appear in the final form. The lexical level corresponds to the combination of roots and affixes that are chained together with boundary markers.\"\n",
        "findFeatures(text)"
      ]
    },
    {
      "cell_type": "markdown",
      "metadata": {
        "id": "dYS334y80Dz5"
      },
      "source": [
        "## **Text Summarization**"
      ]
    },
    {
      "cell_type": "code",
      "execution_count": null,
      "metadata": {
        "id": "At1XDGvpuuT-"
      },
      "outputs": [],
      "source": [
        "def Summarizer(test):\n",
        "  df_new[\"review\"][test]\n",
        "  sentence = sent_tokenize(str(df_new[\"review\"][test]))\n",
        "  temp=df_new[\"rev\"][test].split(\".\")\n",
        "  all_words = [i for i in temp]\n",
        "  #model = Word2Vec([all_words], min_count=1,size= 300)\n",
        "  sent_vector=[]\n",
        "  temp=df_new[\"rev\"][test].split(\".\")\n",
        "  for i in temp:\n",
        "      plus=0\n",
        "      for j in i.split(\".\"):\n",
        "          #plus+=model.wv[j]\n",
        "          plus+= embedder.encode(j)\n",
        "      plus = plus/len(i.split(\".\"))\n",
        "      sent_vector.append(plus)\n",
        "  n_clusters = 3\n",
        "\n",
        "  kmeans = KMeans(n_clusters, init = 'k-means++', random_state = 42)\n",
        "  y_kmeans = kmeans.fit_predict(sent_vector)\n",
        "  my_list=[]\n",
        "  for i in range(n_clusters):\n",
        "      my_dict={}\n",
        "    \n",
        "      for j in range(len(y_kmeans)):\n",
        "        \n",
        "          if y_kmeans[j]==i:\n",
        "              my_dict[j] =  distance.euclidean(kmeans.cluster_centers_[i],sent_vector[j])\n",
        "      min_distance = min(my_dict.values())\n",
        "      my_list.append(min(my_dict, key=my_dict.get))\n",
        "\n",
        "  #print(\"K-Means Clusters:\")\n",
        "  km = []\n",
        "  # print(len(sentence))\n",
        "  # print(my_list)                          \n",
        "  for i in sorted(my_list):\n",
        "    if(i < len(sentence)):\n",
        "      km.append(sentence[i])\n",
        "      # print(sentence[i-1])\n",
        "\n",
        "\n",
        "  model = AgglomerativeClustering(n_clusters=3)\n",
        "  # fit model and predict clusters\n",
        "  yhat = model.fit_predict(sent_vector)\n",
        "  # retrieve unique clusters\n",
        "  clusters = unique(yhat)\n",
        "\n",
        "\n",
        "  my_list=[]\n",
        "  for i in range(n_clusters):\n",
        "      my_dict={}\n",
        "    \n",
        "      for j in range(len(yhat)):\n",
        "        \n",
        "          if yhat[j]==i:\n",
        "              my_dict[j] =  distance.euclidean(clusters[i],sent_vector[j])\n",
        "      min_distance = min(my_dict.values())\n",
        "      my_list.append(min(my_dict, key=my_dict.get))\n",
        "\n",
        "  #print(\"Agglomerative Clusters:\")\n",
        "  ag = []\n",
        "  #print(my_list)                          \n",
        "  for i in sorted(my_list):\n",
        "    if(i < len(sentence)):\n",
        "      ag.append(sentence[i])\n",
        "      #print(sentence[i])\n",
        "\n",
        "  final_summary = list(set(km+ag))\n",
        "  print(\"Summary:\")\n",
        "  for i in final_summary:\n",
        "    print(i, end=' ')\n",
        "  print(\"\\n\")"
      ]
    },
    {
      "cell_type": "code",
      "execution_count": null,
      "metadata": {
        "colab": {
          "base_uri": "https://localhost:8080/"
        },
        "id": "PJPMlJ8FDuqq",
        "outputId": "0a637bc0-d7e5-4d1c-f277-164cc7c0d5d6"
      },
      "outputs": [
        {
          "output_type": "stream",
          "name": "stdout",
          "text": [
            "\n",
            "Medicine Name:  Contrave\n",
            "\n",
            "Review:  Contrave combines drugs that were used for alcohol smoking and opioid cessation. People lose weight on it because it also helps control over-eating. I have no doubt that most obesity is caused from sugar/carb addiction which is just as powerful as any drug. I have been taking it for five days and the good news is it seems to go to work immediately. I feel hungry before I want food now. I really don't care to eat; it's just to fill my stomach. Since I have only been on it a few days I don't know if I've lost weight (I don't have a scale) but my clothes do feel a little looser so maybe a pound or two. I'm hoping that after a few months on this medication I will develop healthier habits that I can continue without the aid of Contrave. It worked immediately. I made healthier choices. I didn't have any junk food cravings not even think about them at all. Within 2wks I lost a good 16-18lbs. I loved the new me.. The healthier looking me.. Been on Contrave for 30 days. I was 283 at 5'7 but now 272. Am disappointed b/c I did a 180 degree change on my diet exercised daily and only lost 11 pounds in 30 days. I am going in the right direction. I didn't have the constipation or nausea. I am pretty &quot;foggy&quot; still. But I have thyroid issues and have an appt. for that on the 23rd of February and hoping to get regulated and maybe I'll have more success at losing weight. I'm not giving up though. In a few days short of 6 weeks I'm down 26 lbs.  Granted I have about 50 lbs more to go.  I have experienced a fair amount of nausea.  It was pretty bad but it is getting better. I'm drinking more water than ever partly because it seems to reduce the nausea.  The side effects are a little severe for me but I like the results so I will march on. I'm a 56 years old 5'2&quot; 230 female (or I was when I started Contrave).  After reading all of the reviews I was terrified of the side effects but I had to have something that might help me shed some weight. To date I've experienced little to no side effects and have lost 11 lbs going into my 3rd week. Probably my only complaint is that I do get sleepy from time to time but nothing that isn't manageable.  I'm more able to resist my favorite foods and I have the energy to get up and move now.  Let's hope this is the continued trend. I have been on Contrave one pill a day for 1 week and have lost 3 lbs so far.  No lasting side effects except a bit of nausea one day...not sure why.  I have not had a problem with constipation. I think because I make myself Almased protein drink for breakfast every morning. As for nausea a friend has told me to take Maitake mushroom supplement.  It has been know to help nausea and weight loss. I've been on Contrave since 12/2016.  Began three days after Christmas.  I was 250 lbs.  I lost thirty &amp; down to 220 in three months (80 carbs a day) &amp; maintained until (chocolate season of Easter) but now I am up to 230.  I don't feel the medication is working anymore- at all.  However the doctor has scared me into believing I will gain back the other 20 if I go off of it.  I'm a sugar addict.   Plain and simple.  It's like crack cocaine.  Tried telling the doctor this who wanted me to try CBT.  Yeah no.  I don't need any armchair psychoanalyst telling me that &quot;Hey you really crave sugar.&quot;  I get about 15000 steps in a day but it doesn't help.  I want to lose another 50 pounds but it's clear that this medication won't be part of it. I'm 34 ...5' 4&quot;.  I had jitters nausea severe constipation and trouble concentrating. This was going on through the first month. Starting the second month of Contrave  I have NO side effects.  I've been on Contrave for 60 days. The first week was terrible. I was so sick I didn't think I could continue. And it happened again after increasing the dose. The side affects have subsided but every so often I do something really stupid like using conditioner before the shampoo or forget to rinse the shampoo before leaving the shower. All this said I feel fine and it's working. I'm down 12 pounds. I do have trouble with my scale. If I bump it at all my weight changes dramatically. If I move it it looks like I've gained as much 10 pounds overnight. The auto response text messages are pretty worthless. I have tried reaching out to the email support address be there has not been any response. Overall I'll keep taking it. Well today makes day 2 of taking Contrave. I am on Spring Break and want to monitor my side effects. Day 1 I was still hungry and with cravings. Day 2 took around 10 a.m made eggs with cheese salmon croquette with a biscuit. I was only able to eat 1/3 of the egg..no biscuit and took me 30 minutes to each a small portion of the salmon. So I will come with an  update in a week. I weigh in as 5'4&quot; 251 lbs with no clothes. So in a week. I will update you all. No activity currently involve. I actually felt more of an appetite. It didn't work for me. Love this medicine.. I've lost 10 pounds in 2 weeks. It also stop the cravings for  alcohol and cigarettes. So I've quit smoking and drinking.. Love it no side effects either other than the first day where I felt like I had the worse hangover ever.. But now I feel great. Almost 6 weeks on Contrave and still going strong. I'm down 13 lbs; 168 at 5'1 to 155. Side effects I've noticed this far still bouts of nausea and only threw up once. I recommend taking with food and lots of water. Dry mouth seems to have subsided still have a slight hum in my ears and my right hand twitches mildly intermittently. I have energy an overall feeling of well being and 90% control over my eating. Sticking to a 1400 calorie or less diet with no trouble. Scale down program is very encouraging. I feel like I eat breakfast small lunch and then am just not hungry the rest of the day amazing how it turns off desire to eat mindlessly. Some taste changes I love eggs but can't eat now. Pls try for yourself or you'll never know. Hello I started Contrave exactly 4 weeks ago; I've lost 9 lbs. I've been running &amp; speed walking 4.5 miles a day. Earlier I nearly passed out running and realized I had to exercise prior to taking my morning dose. Back pain this week so two days off from running &amp; got acupuncture. Headaches were severe the 2nd and 3rd weeks not anymore.  Difficulty urinating &amp; waking up to pee twice a night started in week 2 and still persists though not as severe now. I still think about food more than I wish but I'm able to cook &amp; bake w/o tasting the food. Oranges and yogurt are satisfying when I'm struggling. Magnesium oxide is a must for constipation. I'm happy &amp; 13 lbs to reach goal. I read many reviews before starting Contrave the end of Nov. 2015. I have now been on the FULL dose of the medication for two full months and have lost about 16 pounds. I highlight full dose because I truly don't think there is much benefit until you hit four pills a day. Many reviewers were disappointed in the first month because hadn't seen a difference. Once I was on the full dose the results were immediate.  My appetite has been substantially curbed I don't have cravings and I feel fuller faster.  It's up to you to put your fork down though. Side effects: a bit of the shakes with each dose increase which went away after a few days slight dry mouth and constipation. All very minimal.  Use the program www.scaledown.me with it.. I started Contrave almost one week ago. Weight loss has been about four pounds but the thing I'm most thankful for is the reduction in the desire to eat. I had several parties to attend this past weekend and previously would have spent a lot of time in my head debating the wine and junk food before ultimately caving in. This time it wasn't a hard decision. I didn't even want any of it. I can't tell you how relieved I feel not to have every potential meal or snack be a mental battle anymore. That alone is worth it no matter the weight loss. Side effects have been decreased appetite and some lethargy. I am 52 years old... have an extreme pain in my knee that had limited my exercise a lot..... additionally some emotional reasons that made me gain 20 pounds in the last year and I was already 10 pounds over\r\n",
            "Today is my day five the only side effect is constipation.\r\n",
            "Medication for me is being fantastic... I always read how to lose wieght in the past but never was able to practice.  Now I am eating to live in the last 5 days and not living to eat\r\n",
            "Medication left me more calm in general... doing things in my time including eating and exercise.... very hopeful I will lose the weigh I need I took this drug for a little over a month and only lost 6 lbs.   I am menopausal and am taking medication to suppress my auto immune disease which cause me not to be able to loose weight and due to my disease be able to exercise.  \r\n",
            "\r\n",
            "This drug WAS NOT covered by my insurance but got the savings card to cut the costs down.  After a month of extreme constipation (even with taking laxatives) severe headaches and overall not feeling good I decided to quit taking this drug.\r\n",
            "\r\n",
            "It is NOT a cure all for weight loss.   I do not eat that much so suppression of my appetite did not work nor did it make me crave healthy foods like some have reported.   I was afraid to go to the maximum dosing of 2 and 2 but did it anyway. I have been using Contrave for four months and have lost more than 40 lbs.  I was nauseous for the first week and then when I increased the dosage.  It has helped me tremendously with the cravings.  I have been walking and now working up to a slow jog for about 45 minutes a day.  The medication will not help you lose weight if you do not watch what you eat or exercise.  It is expensive and insurance will not cover it however it has been extremely worth it to me so far.  Hoping I will wing myself off and continue to eat the right things and exercise. Just started on week two where I take one pill in the morning and one in the evening.  In 9 days I have lost 5.6 pounds &amp; have not a darn thing.  Granted in general I am not a huge sweets person or snacker - but trying to drop weight without starving myself or doing zero carbs - the scale wouldn't budge... Seeing the weight drop with no effort just yet is inspiring.  I love a nice cold beer &amp; perhaps indulge a little too much on weekends - but I now notice I don't really care if I have a beer or not.  losing almost 6 pounds is now motivating me to start eating cleaner and get walking / start some exercise regimen. Side effects I sweat more &amp; sleep is not that great(but I also have hyperdrosis &amp; take adderall). Will post after week 4 2nd Update: 7m 10d &amp; I am still very happy with this med. Down 31lbs so far: started at 229lbs/36.4bmi; today at 198lbs/31.5bmi; goal is 156lbs/24.8bmi - just to get out of the &ldquo;obese&rdquo; range. I was inconsistent for a while (no pills while away on a 3wk vacay &amp; only 2pills/day for a few months) &amp; didn&rsquo;t see any side effects or weight gain just plateaued which is good to know for when I go off this med someday. Back on the full dose for a few weeks &amp; losing weight again. Very easy to skip a meal &amp; hardly notice which is where the real weight loss comes in. I don&rsquo;t crave the bad foods I used to &amp; don&rsquo;t mindlessly eat. ScaleDown trial ran out (was able to keep the scale) but after a few months it was only generic info anyway &amp; not worth it. Lost 9 pds on second week now and I watch everything I eat I read my labels alot more I know its important to watch all that you eat because since I been doing it along with the diet pill I lost 9pds and I'm only on my second week. I don't know if I want to increase the dose I like the 2 a day. Every time I take a pill I drink 16ounces of water with it then I wait and eat 1 hour later so with good discipline you will be successful I believe On day 3 so far mild headache til afternoon hours kinda stay inside to prevent it from being worse I hope this goes away. Other than that I feel fine. I like that I sweat more when I exercised it's good to sweat n burn fat while you work out. I'll update Sunday at the time I do my weigh in for week one. I have been on Contrave for almost a complete month now and I love it. I started seeing pounds drop right away going into my 3rd week and already down 11 pounds. I have been lucky enough to experience no side effects (knock on wood) and I cannot wait to keep going and see what I can accomplish. It makes you get full faster and honestly makes you turn away from junk food. I was working out 5-6 times a week with a healthy diet and still was not seeing the results I felt I should be seeing but 3.5 weeks on Contrave and I'm back in my size 8 jeans. I was prescribed this RX because I can't lose weight even after following a diet and exercising. I'm starting on my 4th week and I am thoroughly disappointed thus far. It hasn't suppressed my appetite or controlled my cravings at ALL. Indeed I have GAINED 5lbs since starting. Also this week I am having pounding headaches that won't go away as well as severe constipation. Most disappointed as this RX was NOT covered by my insurance and it was expensive. Started at 243lb I am down to 226lb.  Started about 5 weeks ago.  So I was finally on 4 pills a day until the 5th week but I had two days of extreme stomach ache.  I came down to 3 pills 2 in morning and 1 at night. The weight has steadily declined about 2 to 3 pounds a week.  Truly glad I started the medication.  I have had some of the side effects. The nausea I use peppermint or gum to overcome. Constipation and dry mouth I drink more water.  I do get a jittery feeling but it does  go away.  No issues with sleep. Take B12 pills for energy.  So far so good.  But I am glad it is working. It was $227 under insurance but the coupon dropped it down to $99. Yes this drug has really bad side effects of severe headache . I suffer from migraine and I didn't know how much more of this side effect I could handle but for me losing weight was more important than anything. 1st month everyday severe headaches but after that things got better after about 6 weeks I felt normal. Its been 6.5 months and I've lost 40lbs. I eat extremely healthy and exercise everyday. No sugar no carbs. Its not a miracle drug you have to also change yourself. I would do it all over again. Definitely recommend it. I have always been fit and losing those few pounds that manage to creep up on us from time to time was always fairly easy.  Once I hit my 50's however things changed.  I went to the gym I ate well but nothing.  In fact I GAINED weight when I thought I should be losing or at least stable.  Thank goodness my dr suggested CONTRAVE.  It dramatically reduced my appetite so that when I ate I made good food choices and stuck to a reasonable portion.  And those evening snacks were a thing of the past.  The daily weighing is awesome because you can see even the smallest change.  I was not obese but 5'5 at 166 lbs was the most I'd ever weighed and I was  completely uncomfortable in my own skin (and clothes.)  I am now almost 30 lbs down. Nauzene chewable tablets purchased at local drug store for nausea. This is controlling the awful nausea I am experiencing. I was ready to stop at day 2 as I was so miserable. Nauzene to the rescue. I'm only at day 4 of taking Contrave but my appetite has noticeably decreased. I am hopeful this will help me get my weight under control. I started on Contrave this past Friday 3/17 I felt sleepy all day and slight headache I had read someone else did same but thereafter she was ok while continuing Contrave so I went on to day 2 but I was like a zombie just wanted to sit and stare dizzy I haven't felt that bad in awhile. I decided I can't handle this so I stopped. I will say  I wasn't the least bit hungry. I called my pharmacy today for refund they referred me to Contrave Hotline I paid 92.00 that could went on other bills to be told I can't get refund. I am very disappointed in this program and wish I never tried it. The first 2 weeks were rough. I was sick to my stomach dizzy and tired. My doctor switched me to separate prescriptions of Wellbutrin and Naltrexone (the same drugs in Contrave) and I took one in the morning and one at bedtime. It got rid of the side effects. I've lost 20lbs in the last 2 months. The medication doesn't suppress my appetite but now I can feel when I'm full and I'm able to walk away with food still on the plate. It doesn't miraculously take away the cravings but now I feel okay saying no or having a couple of bites and being done. Before starting the medication I could eat a meal and an entire dessert by myself but now I eat maybe half as much. If Contrave made you sick it's worth asking your doc about separating it. I was skeptical. Read some reviews and they were so strong for or against. At first I did feel side effects. The first 3 weeks I thought there is no way I can take 4 a day. I listened to my body and waited an extra week to go up to full dose. The side effects of head ache and jittery had gone away by this point. I'm 8 weeks in and I'd say by week 5 I was feeling great. I'm down 20lbs and less depressed. Food really doesn't matter  I've been taking contrave for a week and a half. I'm now taking the morning and evening pill. Iv'e had very little side effects. A lil groggy the first day taking it. I have lost 4 pounds so far. Second day taken Contrave. First day I had some nausea my mouth started to get watery which for me indicates that I'm about to throw up mild cramps in my stomach but the stomach cramps soon went away after 20m. Sleepiness and tired. My head felt like it was heavy and my jaws felt tight after a while. I felt calmer than normal and somewhat high as if I took one puff of marijuana. My mouth was dry so I drunk a lot of water to relieve the dry mouth symptoms. Cravings were minimal. Today I took the pill about the same time as I did yesterday and had the same results along with diarrhea. I had a panic attack thinking about the side effects and thought about going to the hospital but luckily my mom calmed me down some so I'm now writing this. I was on Belvique for 5 months. Lost 15# the first 3 months and zero the last 2 months. My doc and I discussed Contrave. I have been on it for 3 wks and I am at 2 pills at night and 1 in the day. I don't crave chocolate or sodas any longer. The medication makes me woozy if I don't take it with food. I don't feel like my body is ready to go to the 2 a day and 2 a night dose because I feel like I have &quot;medicine head&quot; when I take two at night. I can't concentrate at work like that. I am not tired all day like I was with Belviq. I am sleeping thru the night and wake up refreshed. I have a sense of well being and don't get stressed at work like I used to. I do get hungry now and then but keep berries as a snack. I eat small meals. No weight loss Garbage.  I didn't lose a pound.  I followed the program and it did nothing except cost me 150.00 in pills.  What a joke. To DIVERGIRL\r\r\n",
            "\r\r\n",
            "Just bring your rx to another pharmacy and don't give them any insurance info...tell them u don't have any and you only have the coupon card..it shouldn't cost you more than 60-70$ I started this drug 2 months ago.  I've lost 19 lbs since I started but not totally positive it's because of the drug.  This is supposed to suppress your appetite and mine has been full on since I started.  I've also had quite a few side effects some I've seen mentioned some not:\r\n",
            "Constipation-  It's usually a few days between and typically fairly painful\r\n",
            "Nausea- This is new.  2 months in and it was really bad.\r\n",
            "Light Headed- This came with the nausea.  Combined it was so bad I couldn't look at my phone and I couldn't drive.\r\n",
            "Muscle Fatigue- My legs were fatiguing 20 mins into a workout which is really abnormal for me.  I had about 25 pounds to lose so my doctor prescribed Contrave. I was super excited to try it. I took it for two days and woke up the second day with the worst migraine of my life and vomiting.  I stopped taking it but felt ill (nauseous) for the rest of the week. That Saturday I got a fever. My Tuesday my fever had spiked to 103 and I was vomiting with a headache. I went to the ER and my liver enzymes had shot through the roof (almost 400). The doctors think I got Hepatitis from this medication.  I have been so sick nauseous fever chills body aches fatigue headaches.  I was a totally healthy (although a little overweight) 40 year old female who doesn't drink or do any drugs who got seriously I'll on this medication. me and my boyfriend have been on contracts for 1 week I am down 4 lbs him 6. We have noticed we don't even think about snacking anymore and we have to make ourselves eat something . He has had no side effects I was nauseated a couple times but it didn't last long. Can't wait to see what the results are after a month. I am 2 days into week 3. I have had zero side effects but I've had 0 weight-loss and no loss of appetite. I don't know what I'm doing wrong. Any suggestions. I have been taking Contrave for 4 days.  I am 5'2 1/2 and wgt 156.  I was taking phentermine but then I began to read about contrave and asked my Dr. for it. I have been taking it only four days I don't feel anything.  Does this medicine have to be taken for a while before it kicks in. I take one in the AM. I don't have any of the symptoms that I read about. I not sure about the cravings or eating to much because I feel like it may be a placebo effect.  Did anyone else have this kind of feeling..  Should I just give it more time to kick in..  Its not an inexpensive drug to keep taking if it doesn't work. I hope I am wrong and the weight loss will start happening soon as it did for some of the people I have read about. I love the medicine but I can't continue with it due to it making my blood pressure go sky high Started 7/9/16 it's morning of 7/18. So far I have lost 11lbs. Just recently started week 2 and I'm feeling the sleepiness and nausea it's not horrific concerned I might have to go to 1 pill again but for 11lbs in 9 days I'll try to stick it out. I'm not sure if it's all in my head but my cravings have pretty much gone and my portions are incredibly small and I'm really not hungry at all any more. I've also been more interested in walking which before hand if someone even mentioned they were going for a walk I would want to throw up- I've even started to add 5-10 push-ups after my daily walk. Super thirsty all the time but I haven't retained any of the water and I try to mix it up- put some lemons or cucumbers in the water for added boost Contrave did make me nauseated. So what.  I would still be on it but had to have double cataract surgery. I think this is one of the less common side effects. I had such high hopes for this to help me control my cravings etc.  I did lots of research and talked at length with my doctor about side effects (lingering minor headaches nausea).  Took one pill in the AM Saturday had marked dizziness nausea and headache (borderline migraine).  Made it through the day.  Took one pill in the AM Sunday and about two hours later it triggered the worst migraine I have ever had.  It was excruciating. The next day (Monday) I didn't take any and went to Urgent Care where I was ran fluids and given meds for migraine pain and nausea.  It's now Thursday of the same week four days off the meds and I'm finally beginning to feel normal.  While Contrave may work for some it will absolutely not work for me. I just started Contrave 5 days ago.  The positives are that I've noticed my appetite is suppressed and I'm eating smaller portions. Also sleeping great but I am only on the 1x a day dose in the morning.  The negative side is the nausea and stomach ache later in the day. I wouldn't consider them enough to stop at this point and I plan to continue on with it at this point. Hoping these negative side effects will subside as my body gets used to it. I have been on Contrave for 7 weeks and have lost 10 lbs with no change in exercise.  It has suppressed my appetite.  I have had no side effects other than a bit of an upset stomach for an hour on 2 different days which went away after I drank some water.  I am very happy with it.  I wish I had started taking it a long time ago. It is worth the money.  Now I just need to ramp up my exercise so I will drop the weight more quickly. I highly recommend this product. I started contrave on Feb 5 2016. It took me a minute before I actually began to use the medication because I was nervous of the side effects.  During that time I weighed 240 pound wearing a size 18 pant size.  After speaking with my physician who's also a weigh specialist informed me that the side effects will be minor and will not last long.  Once I began the medication taking one a day for the 1st week and 2 for 2nd; increasing the dosage until I was on 2 in the morning and 2 at night.  I did suffer mild headaches and dry mouth during the first 2 weeks it went away and I have been doing fine ever since. As of Dec 27 2016 I can joyously say I am 201 pounds wearing a size12 pants. I started Contrave on June 19th 2015. Once I got over the side effects and dosage increase I had no cravings for sweets or snacks at all. I lost weight very quickly. In the past month I have noticed that although I eat less as a whole I do find myself taking some sweets and snacking a little. I have lost 20 lbs however last month I did not lose any weight. Anyone else feel like you sort of build up a tolerance to the drug and it becomes less effective. Any suggestions for me. I started Contrave at my doctors request on Jan 14th at 224 pounds. This morning I was 215. I've had virtually no side effects. My doctor said to lose 8 pounds per month and I've lost 9 pounds in just short of a month. I've noticed that drinking lots of water and spacing out meals and snacks has kept the nausea at bay. I take my 1st dose at 6:30 am with my breakfast. I eat a piece of fruit at 10:30 lunch around 1:30 a Fiber One snack at 3ish then dinner around 6 with my second dose. High protein snacks have really helped a lot. Believe or not I lost 15 POUNDS in one week thats incredible when I start my weight was 185 now one week and one day my weight is 170 I combine the pill with a littl work out and healthy food. Started 12/18. I am 5'2 started at 194.3. It's been nearly 4 weeks and I have only lost 3 pounds which also keeps going back forth daily. I cannot go to the bathroom on the regular due to major constipation issues which in turn I'm sure is not helping the weight. At 1st I really liked how I felt. My mood seems better my skin and energy felt good but as soon as I added that 3rd pill things changed. Waves of nausea my eyesight has been horrible light effects my eyes differently and my vision has been unsteady which it adds to the nausea. I'm supposed to start taking 4 today and to be honest I'm really not sure I want to keep going. I'm not getting the kind of results that are worth the side effects I'm having. I have been on this medication for about 6 weeks and have lost roughly 11 pounds.  This is disappointing considering the amazing results that others have reported.  I am so nauseated in the mornings that I can barely function.  My doctor put me on a month to month script so after this month is up I will not renew. Horrible side effects of nausea dizziness and zero appetite.  Dropped 18 lbs in 39 days.  Still losing. 0 zero Nada. No weight loss. Been on it for 5 wks. Expensive wasted money. Maximum dose is 4 tablets daily. That should tell you something. If you have to take so many pills be on diet and exercise why take these. Just diet exercise and buy over counter medicine. Stated at 230 lbs 5 weeks later still  230lb. Company will still profit at one month supply from each person taking this. LET'S SEE IF THEY POST THIS Im 20 and Im on week 4( 2 pills in the morning and 2 at night) i am 16 pounds down already. I am experiencing mild nausea but it's only when I eat certain things. Once I throw up I feel much better. I am trying to include more fruit into my diet to compensate for the food I have been throwing up. I have heard these symptoms don't last but 2 weeks max. If they last longer than that I'm going to go back to the 2 pills in the morning and 1 at night since I did good during that. This pill has been great at eliminating my cravings. No constipation or headaches so far. I started the medication on 1/8/2016 as directed weighed myself this morning with the scale down scale and it said that I lost 21 pounds in less than 2 weeks I have taken Contrave for several weeks and while it diminished my appetite I started to really not like food at all.  Mealtimes became drudgery (and I usually love food) and I had a constant upset stomach.  I felt so miserable I missed my gym workouts.  I stopped taking it and felt fine within a day.  It's not for me.  It's important to feel good. I'm 30 years old weight 210lb and started using Contrave 8/8/2017. I haven't had to deal with all the negative side effects that come with this drug thankfully. I'm wanting to lose 60 pounds by May 2018. Don't know if I have lost any yet told myself I wouldn't weigh in till my doctor appointment on 09/05/2017. I do feel that it's working I don't feel like I have to eat all the time which I like because that is why I started taking contrave. All in all I'm liking contrave -  it's doing what I wanted it to do. Will update after doctor appointment. Good luck to the rest of you on your weight loss journey. It has almost been two weeks since I started taking this. It was a rough first three days but after I hung in there I started to notice some changes.  Today is day 12 and I came to work.  My boss gave me chocolate and there were homemade treats in the break room.  Not only did I not taste them or eat them I didn't even want to.  That has never happened.  I hope this trend continues but only time will tell. I have been on contrave for a week now and have lost 10 pounds along with a strict diet. I have not been exercising much but want to start. It made me nauseous only once and other than that I have had great results. Controls my appetite and doesn't let me overeat. I am very happy with this. Today is day 1 on contrave. I am very hopeful that this will help me to lose weight. I will continue to post on my progress and continue to read postings here. Good luck to everyone and good luck to me. Today is 1 week of the two drugs in contrave taken separately and in different doses than contrave. (Cheaper w/ insurance to do it this way.) So far I am very pleased. Down some the scale is flipfloping a bit--it actually broke-- but think I'm down between 5-7 lbs. My energy has increased and the SEs are minimal. I take a homeopathic called nux vomica the second my stomach feels funny and I've not really experienced and feelings of nausea because of it. Dreams are interesting and pleasant. Overall I am extremely happy with my results so far. Three questions: Anybody else taking the drugs separately. Any girls out there still feel PMS cravings. Any reports from long term users. I have only been taking Contrave for 3 weeks. I have felt a little nauseous occasionally. The worst side effect is insominia. I started at 241lbs and after 3 weeks 233lbs. I feel happy like I could take on the world. Perhaps the antidepressant is responsible. Certainly not like past diet pills that make you hyper and nervous. I really think this drug is a miracle so far. I make better eating choices and don't eat as much. I attribute this to not having cravings and not really caring that much about a meal any longer. Wish my insurance would cover it but it's well worth the price so far. I'm a 52 year old woman. Started Contrave  July 19. Today is January 16. I've lost a total of 26 pounds. I monitor my diet. 3 small meals healthy snacks. I do everything right. Exercise EVERY day minimum of 1/2 hour on a stationary bike (at moderate speed)   My Dr. Is happy with my loss but I'm NOT. People loosing 10 a month... And I can't lose more than 30 in 6 ...... I'm about to give up. I think I could lose an equivalent amount without Contrave. I am a nurse. I was already on wellbutrin SR-150mg 2x daily.  I concur with the dieter below. Have your Dr prescribe these meds separately.  No side effects.  The dose of naltrexone is way too high in contrave  (just my personal. .not professional opinion.) 4-5 mg of naltrexone 1-2 times a day is plenty.  Naltrexone will only work if you truly have a binge type actual food addiction.  It works on the reward center of our brains just like that of drug addicts and alcoholics. The grandiose feeling we get when we eat and all is suddenly right with the world. It turns that off for us. (And..prescribing this way. Super cheap. :) I posted a few weeks back  and was doing great on the contrave a few things started happening and I seriously thought something was wrong with me.. after getting up to the full dose of 4 a day I started experiencing a lot of things that were not common side effects Back pain severe abdominal pain severe sleepiness I could not hold my eyes open after sleeping 8 hours  then very frequent and uncomfortable urinating after researching the products more these were all rare side effect and I was experiencing them all I had to come off I hurt all the time and all I wanted to do was sleep.. was weird is I had no nausea the other common side effects it works different on different people..  just going to have to lose on my own... Update:  I'm on my 4th week of taking contrave 2 pills am and pm.  I didn't have any nausea weeks 1-3 so not sure if I need to be on 2 pills in am and 1 pm.  I have lost 11.3 lbs so far so that's great.  I do exercise some as well.  I'm grateful my insurance covers this at 100% as others stated it's an expensive rx. I've been on this medication for 9 days now.  So far I have lost 6lbs.  I do not feel as hungry or crave food.  However I am having a lot of side effects such as dizziness dark urine ringing in the ears severe fatigue and low blood pressure.  Can anyone give me advice about if the side effects do indeed go away. I just started the 2 pills in the morning and one pill at night today. I have had no effects whatsoever other than feeling tired.  I have lost no weight and am hungry all the time.  I will continue it but not for much longer very disappointed. I am in week 5 with Contrave and am down 12 pounds.  My appetite is suppressed almost completely and certain foods I routinely ate no longer appeal to me. I had problems with nausea the first two weeks and a lot of agitation during the third week but the side effects have just about disappeared at this point.  It was worth fighting through them.  While I am still at the beginning of this journey I am already enjoying the scale and the non-scale wins.  I have complained about my weight for years but never hung in there to do much about it so I now feel empowered and motivated to make this work for me.  Thanks to everyone who shares because I find their experiences helpful on my own journey. Hi everyone\r\r\n",
            "Today is day one and I feel awesome. I will keep everyone posted on my progress. I have been on Contrave full dosage for 2 months and I have lost 20lbs. I am not binging and my appetite is under control. It seems to have changed HOW I eat and WHAT I eat.  I previously bolted my food down and drank in gulps I now take small bites and chew my food it is as if my body cannot handle the scarfing. I am able to drive past fast food restaurants without wanting to stop and binge. I am typically no longer hungry at night. I am also trying to help the medicine by exercising and not fighting it by attempting to continue down the road I was on before. It has also helped my mood I seem to have more energy and no longer feel the need for naps. I hope it continues to prove successful. I started Contrave in April 2016. I stayed on 1 pill/day for 4 weeks then went to 2 pills/day primarily because of the expense. I was hoping to accomplish weight loss without having to take the full dose and stretch the prescription out for a longer period of time. I'm 5&quot;7&quot; and started at a weight of 172lbs  It's now July 2016 and I'm only down to 166 (that's 6 lbs in 3 months). Not much progress but I am only taking half the recommended dose. Side effects have been minimal - the most predominant is sleepiness. I've had to increase my caffeine intake to combat the sleepiness. I do work out 2-3 times/week and hope to increase that. I sometimes &quot;over-eat&quot; the medication I'm full but continue to eat and then feel incredibly over full. After one week on contrave with no sign of it beginning to work I woke up with hives.  A few hours later my whole body was covered with hives and extremely itchy.  Over the counter antihistamine did little to help and I continued to break out .I did not take any more contrave after the first sign of hives. The second day I went to ER for help from the growing whole body rash and frenzied itching. I was given Iv steroids and more antihistamine. It has now been 5 days of hives and I do not think i have peaked yet. Each day it is worse and I do not know when it will start to abate. Horrible Horrible experience I've had appetite loss I would take a couple of bites and I appear to be full .I also walk two miles everyday after work have not weighed in because it's only been a week. I started taking contrave 4 weeks ago. I have lost 6 lbs. I have had no side effects from this drug. It definitely works to curb hunger and craving. I eat to live and not live  to eat.  I tried Belvique and Qysemia and they both were a waste of money and time. This drug is the only one that's curbs hunger and cravings without any side effects. I will continue to take it till I reach my goal. I'd recommend this drug highly It was tough at first. I was constantly dizzy nauseated and just not feeling the best. Driving was the worst. It took a very long time to get over those side effects and still feel some to this day. I've been on Contrave for over a year now. Supposedly there is mild antidepressant in this mediation. It might just be in my head but I do notice my mood change for the worst when I miss doses. Also I have absolutely no desire to smoke anymore.  I used to love smoking especially when I drank but after finally getting my body adjusted to this medication I can't even stand the smell of smoke. \r\r\n",
            "\r\r\n",
            "You have to use the medication exactly as directed or it won't work. It doesn't make you not hungry you just eat less. Initially I had no appetite at all and also no appetite for wine.  Wine actually didn't taste good.  My side affect was a headache... constant.  I also didn't feel like myself.  Not depressed but certainly not my normal self.  Within the first week or so I lost 7 pounds.  I wasn't obese but needed to lose 20 or so pounds.  After the first month I had dropped 10 pounds and felt completely normal and full of energy.  I have now been on contrave since August and have lost 24 pounds and feel fabulous.  I also started blue apron which is a very healthy meal plan.  I absolutely watch what I eat but if I want pasta LOVE PASTA) I have it.  I just make sure not to have it again for the next week or so.  I work out but only 1-2 times per week. Down 20lbs since Jan 5th.  No side effects except for my hair falling out more than normal When I finally get this medication filled I will give an update on its effectiveness then.\r\r\n",
            "Contrave charges an obseen amount for this perscription and insurance does not help. I have been on Contrave for about 4 months and I have also been on a strict diet as well. It hasn't helped me at all. I haven't lost any weight at all. I had severe headaches during the initial phases of increasing dosages and after stabilized dosages I haven't seen any difference at all. I read that if it didn't show any difference within the first couple of months then it was most likely not effective for you. Considering another option. One positive thing though is the free scale from the scale down program however the constant hounding and text messages gets old very quickly. I've been on it for 2 weeks now and paired with a low calorie diet have lost 15 lbs. It does curb your appetite or... I should say it makes you have no appetite. It was a weird feeling at first to not be interested or obsessed over whats for breakfast/lunch/dinner. I'm almost never hungry anymore and I generally only eat meals as a necessity now. \r\r\n",
            "I sometimes get dizzy but its hard to tell if this is from Contrave or something else. I drink a glass of water and it goes away. So it could very well be unrelated to contrave. \r\r\n",
            "The only negative side effect I experience is the inability to fall asleep at night. \r\r\n",
            "Will update this as needed as I increase dosage each month. I am in the middle of week 3.  I have lost 11 pounds and am thrilled.  I had no side effects except a little constipation.  I was feeling great.  Then 2 days ago I noticed my jaw clenching up.  I felt like I was grinding my teeth.  Then the last time I had this happen to me I was on Buproprion.  Same drug in this Contrave.  By the next day I was feeling jittery clenched jaw and a little spacey.  Not feeling quite right at all.  Kind of nervous and almost feeling like I shouldn't be driving.  If I was busy I didn't notice it.  But when I was still it was terrible.  I am so sad I think I am going to have to quit taking it.  I have had such good results and it was really helping me with my cravings.  I just was not hungry. This is a miracle drug.  I am on week 3  I have lost 12 pounds.  The side effects I am experiencing are dry mouth and a little fatigue.  Let me just say that I was a depressed drunk.  I drank every day.  The medicine contains Buproprian which treats depression and aids in smoking cessation. It also contains an opiate antagonist which blocks the effects of downers like alcohol.  I have tried drinking but I either don't want it or get no effect.  I used to zoom through three tall stiff screwdrivers. Additionally I have had the same pack of cigarettes for 4 days now.  I have my life back.  I look great and my family is so pleased.  Started working from day 1.  I love it. The medication itself works well enough but my main issue with this medication is that the price keeps going up. I am using the savings program and they keep lowering the amount the plan covers. When I started this medication I only paid around $50 a month. Now after a few months I am paying over $90 a month. It's ridiculous they keep lowering the amount their &quot;savings&quot; plan covers. For this reason I will be switching to something else. I have several friends &amp; acquaintances that also use Contrave (some at my recommendation) and their costs also went drastically up. Almost all of them will be consulting their doctors to get on something else. It's not worth to start taking something only to have the costs skyrocket to make more money. My dr wanted me to try this medicine after being very successful on phentermine which is MUCH cheaper. So contract gave me some stupid contrave card that charge me $60 a month - much more expensive than phentermine but for that price I'd try it. So now after about a year they jacked the price up with no notice right when I went to refill it to $92 no warning no reason and it's putting my life at risk to have no pills to wean off and no way to pay for the sudden increase.  So whatever you do I won't even start this drug even if they pretend they will give you a cut price because they will suddenly increase it after you're on it hoping you can just pay it to avoid the  consequences of going off of it cold turkey good luck I stopped after 15 days due to constipation and  abdominal pain. I lost no weight. It did nothing for me at all. After I stopped I went on an uncontrollable binge for several days. I was eating things I hadn't had in a year - ice cream chips. I felt out of control.   I went back to the phentermine and that has helped stop the binge eating.. I wish I had never tried this med and wasted my money. I've been on contrave since January 2016 starting weight of 253lbs. I'm down to and holding at 185 lbs.\r\n",
            "\r\n",
            "I've had a few minor side effects such as headaches and minor nausea but it lessened to the point of being almost unnoticeable. \r\n",
            "\r\n",
            "One positive side effect is my libido has increased tremendously. I feel like I'm 18 years old again and my wife simply can't believe it. Not sure if she is happy about it or not. My physician told me it's likely a placebo effect but if I'm happy then no worries. Oh yeah I'm happy. Contrave had the opposite intended effect on me. I had been dieting and exercising with no help and lost 70 lbs my appetite was down and I had not cheated for months. Then my doctor pleased with my success decided to prescribe me Contrave to give me that extra little push. This was a mistake I already had a suppressed appetite due to a strict diet that I had grown used to within 1 week of taking Contrave I was cheating on my diet my cravings were going through the roof. Like most people it did make me sick occasionally but that wasn't the big issue. I took Contrave for around 2 months and ended up gaining about 20 lbs. back that I had lost. It may help with starting a diet but if you're already losing weight without it DO NOT take it. I was given Contrave while on a weight management program with my clinic. I was very wary of taking anything and knew I didn't want a stimulant such as phentermine. I decided to give it a shot after gaining again the first week. The first day I was extremely nauseous and was wary to try again. The nausea didn't come back at all (I usually eat soon after taking it) but I did have headaches occasionally at first. I still do not know if the headaches were related to the medication because I get headaches frequently. In the four weeks that I have been on the medication I have lost seven pounds. I explained it to my Doctor as &quot;willpower in a bottle&quot;. It doesn't reduce my appetite but helps me fight cravings. UPDATE: Started on April 8th 2017 47yr old female 5ft. 3in. 221.6lbs. This morning my weight is 183.4lbs. Down 38.2lbs once again basically with no exercise just Contrave which in turn gave me the ability to make better food choices and has lead to watching my carb and calorie intake. It IS a lifestyle change. One I never thought I could make but it takes repeatedly making good choices for it to become a habit and with Contrave I care what I put in my mouth now cuz I want to keep losing and not gain. Friday is my cheat day.. :-) I have started Contrave off and on for over 8 months now. When I was taking it both morning and evening a did notice the weight loss. My body seemed to just release whatever I ate via bowel movements. I was losing weight. It is hard in the beginning letting the meds get into your system the dizziness headaches moodiness and nauseous feelings did occur with me. I just started back again yesterday. Although it is effective getting passed the side effects is why I keep stopping. I just started contrave on the 3rd of October so I am on my second day. I'm amazed at how quick my cravings were shut down and what I couldn't resist before now doesn't even get a second look. My only negative response to this medication are the headaches I'm getting on it. I'm hoping that after my body adjusts those will fade. I'll check in later and give another update as I continue this prescription. 5 wks in no weight lost. Flit back and forth with one lb. Side effects faded three wks in but not terrible. Headache @first. Workouts started this wk. I am so proud to say that I have lost 67 lbs. so far with Contrave.  I am 6' and had a starting weight of 327 was pre-diabetic have fibromyalgia and bp was creeping up the scale.   Contrave and my own personal decision to change my life are the key to success with  Contrave. This medicine has given me energy and focus...the kind of focus that stops my constant thoughts of food.  Just having finished thanksgiving I can honestly say that I am thinking about other things besides eating to satisfy the urge now I eat for fuel and energy and concentrate on things that are good for me.  Finally there is more to life than food.  I even starting working out at a gym on Thanksgiving...LOL..  Best advise my doctor has ever given me... Been on a plateau for 2 years and out of desperation I took Contrave for 2 months.  I gained 6 pounds not the results I expected.  It did not curb my appetite.  The only weight I lost was in my wallet because my insurance did not cover the cost.  Big mistake.  There is no &quot;magic pill&quot;.  I would rate this as a big &quot;fat&quot; zero (no pun intended) but it won't let me rate lower than a 2. I began taking Contrave almost 9 months ago.  I am 5' 4&quot; and started at 175 lbs.  I got on the scale this morning (I rarely do now to avoid obsessing) and now weigh 144 lbs.  This is a big deal for me I have tried EVERYTHING and nothing worked.  The first month was absolute hell but if you push through it will work.  My appetite is less and I feel full much faster.  The Contrave controls my eating as I clearly cannot.  I go from hungry to beyond full very quickly and it lasts.  Crucial.  Good luck all. I am female 5'3&quot; top weight 169. I started Contravene 4 weeks ago I just finished my first week at the max dose of 2 morning/2evening and I have enough to last me about 2 more weeks at that dose. I have not lost any weight but I did get down to 160 and have fluctuated between 163-167 over the past week just up and down and its frusrating as heck..\r\n",
            "During week 1 was nearly ready to quit; I couldn't sleep the fatigue was unbearable and I wanted to eat everything. Now my problem has never been eating bad or not exercising. My problem is that about 7 years ago I began packing on 6-10lbs a year. So suddenly wanting to pig out was a major deviation from my norm. Week 2-3 were great energy/appetite were tops. Week four I'm tired again. I have been on this med just over 3 weeks. I initially was put off by the side effects (feeling a bit off nausea body aches) so started at one tab every other day. That seemed to make the transition better. But still not without side effects. The worst of which are: dry mouth (which helps up water intake so not too bad) hot flashes (which are NOT fun but manageable ) and constipation (the worst of them all and nothing I do seems to help).   \r\n",
            "But to date I have just hit my 10 lb lost mark.  Within the first few days I could walk by cakes or donuts that were brought in to work and it was like it didn't even register as &quot;food&quot; in my mind.  Cravings for soda and junk are gone and I can eat very little to feel full. My dr. prescribed Contrave for weight loss.  I started taking it yesterday with only 1 tablet around lunchtime.  About an hour later I was bowing down to the toilet and extremely dizzy.  It's been 24 hours now and I'm still feeling nauseous and I feel &quot;out of it&quot;. I'm glad I only took 1 pill. Started taking contrave July 13th the 1st week I lost 3lbs but since then I have gained 4lbs... I have counted calories staying under 1200 a day  and exercised 30 mins 3-4 times a week before contrave but had come to a platue so dr. wanted me to try contrave I am thinking this is not a drug for me..... I will give it one more week before going back to dr.... hoping for some changes.. Hi am 56 year old Fem and have lost 26 lbs on WW within 7 months. I have been eating right &amp; working out weekly but hit a plateau. With the holidays coming I asked my Dr. as to what could help me keep my path.  He mention that Contrave is not a diet pill..WOW I was ready read up on it and started 2 days ago.  The only thing was I felt a little foggy and tired in the p.m. but it went way.  Did have some feaky dreams but slept great.  I woke up with energy and have had no cravings. I get full quickly and want to drink water all the time.. Feel great.  BTW I did view some reviews and I was so scared about the side effects mentioned BUT so glad I started Contrave since I know it's works different for everyone. Hello\r\n",
            "\r\n",
            "Let me 1st say that I only gave it a 5 because its only been 4 days since I started the medication so I am still in the stage on taking only 1 per day. I have had zero side effects and I am grateful for it. I will admit to praying before I took the medications because I am determined to get this weight off. I have envision myself at a certain weight and that is where I will be. I also have had 3 drinks (wine) since I started and no effects there either. I have also craved coffee but just haven't gotten any yet. I went from being a everyday drinker 4 years ago to occasional. I just got off the scale (something is said I wouldn't do) and I am down 5lbs in just 4 days stay hydrated. and let this thing work for you. I wish you all well. I have been on Contrave for 5 days now. So far have had zero side effects. I'm 5'5 and started at 215 lbs. Weighed in this morning at 212 lbs. Have not changed my diet but I am eating less not really that hungry I don't even think about sweets and when I do I really don't want them. Will up date when I start week 3. 40 y/o WF I'm in day 3 of Contrave and have lost 2 lbs. can't be water weight because I'm drinking tons of water due to the dry mouth it gives me. No nausea or headache. i will say that I haven't been sleeping well however during the day I feel almost &quot;speedy.&quot; Not twitching or anxious but more energetic and focused whereas normally I could take a nap nearly anytime. I am very nervous about this medication though because in 2007 I had a seizure. I'm not epileptic and they never found the cause but I keep reading how it lowers the seizure threshold. My doctor obviously thinks the risk is minuscule but I'm still leary... Will update:) cheers I am on Day 7 of Contrave about to increase to 2 pills/day. I am a 48y.o. male 5'7&quot; with a starting weight of 240lbs. I have lost 3lbs in a week which is an accomplishment since nothing was working before. I do exercise regularly (cardio) but my eating habits were (are) very poor. I noticed the side effects of an intense fog and slight dizziness (similar to a Nyquil haze) about the 1st day or two then it went away. I feel the cravings going away it could be a placebo effect given that the cost I paid vs. my income could possibly just be will power finally kicking in. I will try to update as I go to full dosage hopefully this will be what it takes to get my lifestyle a bit better. My wife runs like a 5K every other day and I want to join her... I started this Medication on October 6th 2015.  So far I have gained 2 pounds. The first week I took the one pill and everyday I was sleepy around 3pm at work. I am now taking 1am and 1pm I have diarrhea but that's about it. My eating habits has always been irregular I do notice I don't snack in between meals. I just received my scale I am still excited so I will check in to give an update. I started Contrave in October of 2015.   I followed a 1200-1500 calorie diet and walked for activity. I lost 60 pounds by July of 2016. I was taken off the medicine slowly and have since maintained the weight loss. I did suffer through some illness in the beginning but I used bonine for the nausea. After two to three weeks I felt fine.  Contrave was a success for me.... I didn't give it a 10 as I have only been on it a week now just started doubling up. But my appetite and cravings went away as soon as I started the medicine. I do have constipation but I eventually go. Hoping it wares off no headaches or nausea. Day 2 of doubling up and I just feel as I did when I took 1  just the effect of my suppressed appetite just lasts longer. Which is great bc I don't snack at night anymore which was a huge thing for me. I haven't weighed myself I'm going to wait after the 1st month until I see me\r\n",
            "Dr again. I like this combo of meds because I do feel happier from the buprorion and my appetite is suppressed and cravings for sweets are no longer there. It's crazy how the receptors in your mind can change like that. I want to qualify my comments by disclosing I have only been on Contrave for a week. My intention is to comment periodically as I am on the med longer.\r\n",
            "\r\n",
            "I was very nervous about starting Contrave given what I had read about the side effects. I don%u2019t take meds very often and I didn't like the idea of going on a recurring and long term pill. That being said the first week on Contrave has been incredible. I will say I was food obsessed before. Thoughts of food ran through my head throughout the day and the idea of eating was always there.\r\n",
            "\r\n",
            "I had no idea how much mental energy I had been spending pushing those thoughts aside. Now with Contrave my head is clear. I no longer sit at my desk and watch the clock waiting until it%u2019s a reasonable time to eat or force myself to push on another hour before ultimately giving in and getting a snack.\r\n",
            "\r\n",
            "When I do eat %u2013 and yes I still very much enjoy the taste of food %u2013 I don%u2019t feel that same sense of urgency and elation I use to. Those feelings would often trigger binge eating.\r\n",
            "\r\n",
            "I look forward to seeing what my future with Contrave holds and more importantly I am hopeful.\r\n",
            "\r\n",
            "Again for full disclosure%u2026 I did have mild nausea the first day I took the pill but it was short lived and has not recurred in subsequent days. Ive been on contrave a little over a month. No side effects for me. Lost 15 pounds already. I want to begin this by saying that I rarely write reviews about anything.  I think the only other things I have written a review over was a cabin in Gatlinburg TN and for one of the thousands of things I have purchased off of Amazon.. lol.  Needless to day for me to write a review this product must have made a huge impression on me.  \r\r\n",
            "I started taking contrave on Memorial day 2016 (May 30th) the first few weeks I lost about 12 lbs that's an average of 4 lbs/week. After that I seemed to hit a small plateau and only lost like 1-1.5 lbs average per week for the next two weeks bringing my total to 15 lbs by July 4th.  It is now July 19th and I have officially hit the 20lb mark.. bringing my weekly average back up to about 2.5 lbs. I have been on Contrrave 3 weeks now.  I started taking 1 in the am and 1 in the pm then increased to 1 in the am and 2 in the pm.  I was always nauseous but it would go away after a day or 2.  I have been on the 4 pill dose for a week but it's made me so nauseous I decided to cut back to 1 in the am and 2 in the pm and see if that helps.  I have not weighed myself (scale is not working) but will get weighed when I go back to the doctor on June 1st.  It doesn't really make me feel any differently other than the nausea but that is preventing me from eating a lot.  It does help if I eat something small first thing in the morning but I feel so sick I don't want to.  I'm hoping cutting back for a week will help. I took two cycles of Contrave  unfortunately \r\r\n",
            "\r\r\n",
            "It did not help me to lose weight at all. I started Contrave &amp; during the 2nd week became so nauseated that I had to stop taking it. About 4 weeks ago I started to take it again and have stuck with just the ONE morning pill and have been doing great...I've lost 12 pounds. BUT and here is the biggest thing for those complaining they are &quot;NOT LOSING WEIGHT&quot; I'm also doing this with the Weight Watchers program meaning I am taking accountability for the food I am putting into my mouth I'm eating more fruits &amp; veggies I am not going to the drive through of McDonalds or eating medium size pizza's expecting this medication to help me lose weight. YOU have to change your habits or the medication won't do anything for you. I suggest taking this with a 'diet plan' or 'eating program' I have been on this for about a month I was 345 lbs when I started and got as low as 317lbs. I have had headaches no nausea but I do feel tired all the time but I also have seasonal effective disorder which may play into it. I cheated a little by upping my dose every 5 days instead of every 7 but now i've hit a plateau. I'm hoping that I start losing again cuz so far this is the first time i've been able to lose weight. This is my last hope. I haven't done any exercising because I'm disabled &amp; its tough for me. I'm hoping I can start once I lose more weight. It caused constipation &amp; diarrhea at times I have gotten abdominal cramps if I try to eat to big of a portion or eat too frequently. I have noticed that I eat a lot less. On Contrave and Scale Down for about 6 months down 47 pounds. Some side effects at first none now. I plan to continue until the job is done. I'm thankful this medication became available. Today is my first day of taking Contrave.  I am a 52 year old male and I weigh 321 pounds.  I have struggled with my weight for sometime now.  I have been very nervous about the side effects but I took my first dose today.  I wish everyone the best and may you all stay healthy. I am up to three pills a day. Lost 8 pounds so far. The best part is since I don't have cravings I was able to stop drinking pop and only drink water now. I can eat reasonable amounts of food without the compulsive need to eat more more more. Recommend. Female age 40 height 5'2 305lbs. Started Contrave on 3/29/17. Week 1 I lost 6lbs.. Now 299lbs. I am pre diabetic and my doctor put me on Metformin. This was a BIG wake up call for me. I feel mentally ready to do this. So far symptoms have been nothing bad a few stomach cramps food taste blah a little nausea but only when I don't drink enough water. I do go to the bathroom more often about 4 times a day. I don't have cravings and I feel full. I have changed my diet big time no carbs fish and lean meats lots of eggs tons of water and small snacks throughout the day. I feel good no tiredness like others that I read. I will continue to update weekly I feel this will make me accountable and it may help someone who is like me struggling. I got Contrave and shelled out $99.00 for it. I took it the first day and experienced depressions and flu like symptoms plus I had insomnia. I took it the second day thinking it would get better. Well that was a huge mistake. I felt like my body was freezing and then on fire. I could not function whatsoever. I was at work and had to be driven home by my co workers. I wanted to jump out of my co workers van. I could not concentrate or sit still. I also experienced diarrhea like never before... I have never gone through withdrawals symptoms like this before but I am never taking this rubbish again. Ready to try it out. I started contrave on March 23rd.  I have not had any side effects and try to take it with some yogurt.  I am 5'5 and weigh 250lbs.  After taking this medicine for 4 days I have lost 5lbs.  I am pretty happy with the results so far.  Will update later after I've been on it for a while.  My insurance would not cover it originally but my doctor faxed over for a prior authorization and my insurance approved it so I only had to pay $47. I have been taking contrave for 2 months. Have lost no weight still have sugar cravings. Constipation some irritability and no positive results. I see no reason to continue. I also do get occasion headaches which I don't normally have. I'm very disappointed I have been on contrave since October 2016. I have currently lost 30lbs. I started my weight loss in February 2016 at 225lb. I am a 5'9&quot; 35yr female. The first months I was on adipex and lost 50lbs with that plus diet and exercise. I currently weight 145lb and consider myself at a stopping point. I feel contrave  is highly effective. Especially along with the scale down program. I do not have an side effects that bother me to much to stop. Mostly dry mouth. For those of you who don't give it enough time I highly encourage you to give it more time. I was on it for a month &amp; lost 7 pounds. I started having really weird dreams &amp; my mouth was super dry. Started taking it again after stopping for about a week taking 1 in the morning &amp; 1 late afternoon. I am going to increase again bc this medicine really does curb my appetite &amp; no cravings. I do feel nauseous but it goes away after chewing gum I started contrave 4 weeks ago and watched my diet and exercise daily. I've only lost 3lbs should I continue or try something else. I don't know what to do. I should mention I have not had any major side effects. I am a 54 year old woman who started Contrave as a last ditch effort to loose weight before choosing surgery. I found loosing weight while experiencing menopause impossible. When I started the medication I weighed 213. and I am 5' 2&quot;. I have lost 60 pounds in 16 months. I have had very few side effects. The medication gave me the tool I needed to change my eating lifestyle.  My high blood pressure is resolved and my blood sugars are now normal. I highly recommend this medication. If you are looking for a fast solution this is not for you. Although I do not discourage exercise I would like to mention that I am not in any kind of exercise program. I've gone from a size 18 to a size 10. I am grateful to my Dr. For prescribing this med. I've taken Contrave and 0.25mg of Topamax for 7 days. I've lost 6 lbs. Very happy. Side effect symptoms include: Mental Fog Short Term Memory Loss Anxiety Depression. The Brain fog and Anxiety/Depression are awful. I'm hoping the symptoms go away soon. Haven't experienced the headaches (maybe b/c of the Toprimate) &amp; no night sweats. Meds have eliminated cravings &amp; emotional eating. Thought Wellbuterin was an anti-depressant but I'm uncharacteristically depressed &amp; anxious. So Weird. Is this how everyone else is feeling. I plan to lose 30 lbs by February. I'll update. I started taking Contrave the 3rd week of January at first I did feel a little nauseous and light headed but I drank lots of water and didn't take the pills on an empty stomach and those side effects went away after 3 days. The only side effects I am still experiencing are trouble sleeping if I take the second dose too late in the day and I can't stop clenching my jaw. However I have lost 11 pounds. I also struggle with depression and I have tried all kinds of meds for it and NOTHING has made me feel as good as this medication does. I feel like I can enjoy my life. I rarely think about food unless my stomach growls and I can resist comfort foods and make better choices. I hope it continues to work this well. This medicine definitely works.. Lost 5 pounds in the first 5 days even with cheat meals. No constipation like most had but I don't eat gluten. The only reason for a 9 is because it caused some anxiety and mood swings but I have bipolar disorder and depression anyways. I certainly wish I could experience the loss that everyone is claiming here. I have been on Contrave 30 days and have lost 1 pound. I started going to the gym so I can't even give that one pound to Contrave.  It did make me feel foggy and a little nauseous at first but that soon subsided. Now I feel nothing. I was so hoping this would work for me.  :( This is an update to my previous review. I have now been on Contrave for three months and in that time I have lost 35 lbs (goal is 130 lbs total). The first two weeks were horrible then the side effects subsided. When I consciously watch my diet I lose very steadily. Even if I don't I usually lose 2 lbs a week. My life before Contrave was constantly thinking about food snacking and looking for the next &quot;fix.&quot; Now I get hungry but not famished. I can eat when I am hungry and rely on my body to give me cues- before that was a foreign concept to me. For once I feel like I am in control and that I can see this through to the end and get to a healthy weight which I have never been able to do. If you are obese consider it. I started taking this medicine on 1/1/2016. I actually went to the doctor to ask Dr about Belviq which is another weight loss drug but Dr said it was very expensive and he said that he heard it was not very effective. So today had been 16 days since I started taking Contrave. My starting wight was 253lbs and this morning when I weighed in I weighed 238. Yes that's 15lbs in 16 days I was super excited. This is just the beginning of my long life journey and I hope it continues to allow this weight to come off. So far this medicine has not had any side effects since I have been taking it . As I continue to lose weight I will give you more updates. I started contrave on May 18th and I am down 13lbs.. I am so excited about that. I have not been exercising but have significantly cut down my calories and fat intake. Today I start my second week and should be starting my second pill 1 in the am and 1 in the pm. However I'm going to stick to one pill for another week or so. In the beginning I would say the first 3 days I did have nausea and a headache. My head hurt for 3 days straight. I really thought my body wasn't going to tolerate the medication. The nausea wasn't was tolerable but the headache seemed to start off light and then by around 5pm I swear it felt like it had its own heartbeat. But the 4th day I woke up and I felt normal again. I will be checking back in a week or so. I am 6' tall and began taking this medication on July 29th.  At the time that I started taking this medication I was 270 pounds.  Today I am 253.  I feel excellent and have had the energy and motivation to get outside and exercise.  The only adverse effects that I have noticed is a dry mouth (constantly) which can be relieved by sugar free lemon candy. Also I have noticed blurry vision.  I have went to 2 eye doctors to figure out the problem and both have stated that it is dry eyes. The doctor recommended a lubricating eye drop.  I have been using them for about a week and have noticed improvement.  I have tried Belviq and Qsymia and had 0 results.  Contrave is the best that I have found.  And the scaledown program... Amazing. So I went back and forth about starting contrave weighting 275 and nothing was really working for anytime long term I decided to try. I started in May and its now August Im currently 245. Its been quite sometime since I've been here. All that said I will say the first week sucked....I was nauseated stomach cramps felt like crap. Every day I debated with myself if I was going to continue taking it but I wanted to try even though i felt bad. I'd say for the first month I wasnt hungry and I couldnt finish all of whatever i put on my plate. I didn't have desire for sweets or fried anything. Now those cravings have slowly came back but I'm still eating smaller portions.Keep an eye on your bl pressure and don't drink alcohol. I've been taking CONTRAVE about 2 months or so&hellip;and have had great success with it. It will make you nauseous at times; but it was pretty rare. For the most part I just didn't care to eat (which was amazing&hellip;as I'm down 28 or so pounds.)\r\r\n",
            "\r\r\n",
            "I did a couple of things right; knowing that it could make me nauseous I didn't stop eating pretty regularly for the first 5 or 6 days (and that helped my stomach handle it). But I've never been able to just forget to eat. Ever.\r\r\n",
            "\r\r\n",
            "In the 8 weeks I threw up 4 times&hellip;which is the only thing I can see that could be dicey if I'm in a situation where I can't run to a restroom. But other than that being able to lose that much weight (that I've never been able to get rid of in 20 years) was amazing. Miracle. Started Contrave 7  days ago - absolutely no side effects - though still titrating up to the higher dose. I'm 5'3&quot; 220 lbs. Need to lose every bit of 100 lbs. Maybe notice some tummy issues today - but they were symptoms of having eaten too much - need to change my eating patterns for sure. ~ Here's Hoping. I was prescribed Contrave by my doctor 3 weeks ago. I'm on week 3 and the side effects are just too much to deal with. My starting weight was 196lb and I've only lost 3 pounds. I work out 3x a week and walk daily. I changed my eating habits to stay under 1200 calories daily. Anyone who is looking to take this medication hopefully you can handle the nausea and vomiting headaches and sweats. I wouldn't recommend Contrave it's not worth the money in my opinion. Just started  Contrave yesterday Dec 15 2016.   First day madee me so dizzy and nauseous.   \r\n",
            "Day 2 bought some motion sickness less drowsy.  Really really helped.  Rather be slightly drowsy than dizzy and throwing up.   If you can't handle the nausea or dizziness get some motion sickness.   I hope it works for weight loss too early to tell but its curbed my appetite. I am one and done on this medication.  I was at work and got so sick I had to leave and I felt as if I was having the world's worst hangover all day and into the night. It is totally not worth feeling so horrible. Even today as I write this my stomach is still upset and I don't feel back to normal. All I can say is Contrave is one very powerful medication and I definitely experienced severe side effects.  I am going the old fashioned route for my weight loss and chock this up to live and learn.  There are no shortcuts in life. Hello I started taking Contrave April 182017 The only side effects I experience was a nausea a headace nothing major.  I am down 4lbs which I am very excited about. For the nausea I take motion sickness. that helps out I crew gum to offset it. I eat less. I work out three times a day. One thing I  notice this medicine changes the way things taste. as for  drinking  fluids. it makes drinks taste flat. which is fine with me. I start my 2 pills a day tomorrow. I will keep everybody updated on my progress. After reading all the reviews I was very discourage about starting Contrave. I am so glad I am giving it a try. I keep jolly ranchers in my purse. my mouth gets really dry. I pray this Medicine works out for everybody. Female 26 SW: 209\r\r\n",
            "Currently on week 3 of Contrave. I've experienced all of the bad side effects (dry mouth insane nausea trouble sleeping at night drowsiness during the day vomiting mental fogginess severe dizziness some anxiety and weird dreams). Started to feel better by end of 2nd week still dizzy but not debilitating. Usually workout 4x/week and can't because of dizziness. Increased to 3/day yesterday and the side effects are almost as bad as 1st week. I have noticed I don't have the cravings I usually do and can say no to food. However I am still pretty hungry throughout the day. I'm hoping the side effects will go away and this will begin working. Will update when I have weighed in. Don't think I've lost any weight. I started a month ago and lost 7 pounds.  I did cheat a lot when I first started.  But  once I started the 4 pills a day I started to lose weight.  I can't wait to see what the next month will bring.  I was on topamax before and lost weight a lot faster but I had horrible side effects.  I have had none on this with the contrava. On for 9 weeks.  Started dose gradually as prescribed 2 days I had constant diarrhea.  Immediately my cravings were gone for SUGAR &amp; CHOCOLATE but keep reading. At full dose (2am 2pm) I had constipation got better after taking Colace.  I felt fine all day &amp; night but when the evening dose had worn off by the am I would wake up SHAKING &amp; HEART RACING. Felt better after next dose but shaky all day. One day I almost passed out after normal exercise. Then Non-Stop Nausea set in so now I could not eat and felt like vomiting just from looking at food.  Drug made me ANXIOUS &amp; Jittery so I stopped it. Lost weight..20 pounds in 9 wks mostly because of NAUSEA but side effects were not worth the weight loss. Horrible. Took one pill as directed on first morning. Within an hour increased heart rate pupils dilated uncontrollable diarrhea. Had to leave work even felt like I had the flu. I only need to lose about 15 lbs. my doctor should have never prescribed this drug for me. I absolutely hates this drug and do not recommend it to ANYONE. Not only did I not lose any weight while on it despite eating less eating healthier and exercising more it seriously affected my mental health. It messed with my mind so much by week 4 I was feeling really bad. And of course you can't just quit you have to wean off. I had to have a whole additional anti-anxiety med added to combat the side effects and it still wasn't enough. Once I finally got off I was so much better mentally. I'd rather be overweight than ever go through that experience again. I started Contrave in May with the regular first month dosage.  I had some nausea but found if it took it with lots of water and food this would subside.  I also had some headaches but that too went away with water.  I have been on the full strength drug now for 2 months and have lost 18 pounds.  I have learned to regulate the portions of my food and have to wait until my body tells me that I need to eat.  This is not miracle drug and works slow but that is what I like it is coming off and staying off.  I have not had to starve.  I feel like I am making good life choice changes and will continue.  Will report back later with more results. It works. I've been on Contrave three months and I have  lost 27.5 lbs. My beginning weight was 219. The key is to drink plenty of water at least 80 oz a day eat small healthy meals and please don't eat high fat foods. If you should over eat expect to pay for it. The food does not stay down and you will feel sick. I take the pills as prescribed by my doctor to reduce any side effects. This is a life change for me and I will not go back to eating heavy meals ever. I do plan to add an exercise program or start  walking  every day to maximize the weight lost. Horrible jitters severe agitation irritable sleeplessness thoughts wandered and dizziness after one dose. I am on my 2nd month with Contrave.  I have actually gained weight...  I walk for an hour almost every day &amp; I try to eat healthier. I think I eat more &amp; crave sweets even more.  \r\r\n",
            "I don't know what to do...  I am going to continue taking it hopefully it will turn around for me. I have been on this medicine for about 2 months. My side effects were headache thirsty tired and wired. Felt kind of like I was stoned constipation insomnia. Most of the side effects went away after I got to the full dosage. Still a headache occasionally. And still feel wired sometimes. But I haven't lost any weight. I know it's a slow working pill but nothing. In 2 months. It has curbed my appetite and cravings. But no weight loss is frustrating. Started taking Contrave about 2 1/2 weeks lost a few pounds then gained it back. There are moments where I don't want to eat but I need sweets and stuff my face. I did however quit smoking. Dry mouth but that just prompted me to drink more water.  Slight headache and insomnia yesterday but insomnia every day for me and I had my hair up which could be the cause of the headache.  I won't blame the meds for any except the dry mouth.   I was fine taking it on an empty stomach. \r\r\n",
            "This morning when I awoke I wasn't crazy thinking about how to battle food cravings all day long.  My willpower was weakening as I get older or so I thought but yesterday I was able to work a normal day without thinking about food or the fight with my mind.\r\r\n",
            "With research I already knew my insurance wouldn't cover it.  I signed up for the savings card program $70 out of pocket. I started at 5'8 189lb pounds. I just finished week one. After reading the reviews I was hesitant to try this but so far no nausea. I have noticed zero desire for sweets. Even diet soda (which I used to love) holds little interest for me. Day 2-4 I noticed way more energy but I seemed to get used to the drug by day 5 and slept more but still have no interest in most food get fuller faster and am repulsed by sugar. Starting my second pm dose tonight for week 2.  *I take no additional medications. I've finished week 2 on Contrave. I'm down 4 pounds. My doctor is pleased. He doesn't want me losing any faster than that. For me no side effects. My doctor also said it can take 4 weeks for the full effect which makes sense because it takes that long to get to the full dose. Stick with it. Day 1 on Contrave I feel dizzy nauseous and tired. My heart is beating rapidly and I am wishing I hadn't started this today. I don't think I can push through theses side effects that are supposed to subside. I had been taking Phentermine for the last few months with great success. My doctor said I can't stay on the phentermine long term so we switched to Contrave. Not sure what to do from here about the side effects being so severe. I've been on this for a month and am at the full dose. I was dieting and exercising before this and was looking for something that would simply kill my appetite. I've used Phentermine before which worked great at killing my appetite but also killed my libido which won't work. I have to say I've not really experienced the appetite suppression I hoped for. I'm still hungry and just forcing myself not to eat. But I could do that without this and have done so in the past so I'm not sure it's doing anything for me. It's a bummer because I was really hoping this would work. I'm going to give it until the end of this first bottle which because of the build-up actually last a month and a half then I'm probably done if nothing changes. I started June 2015.  First I did have the nausea headaches and tiredness but it has slowly gotten better. I was willing to put up with the side effects to see if this product would help me.  I am up to 4 pills and a day I feel not too bad. I have only lost 10 pounds but I just starting walking 3 miles a day.  I couldn't exercise at first because of how sick they were making me feel.  I do feel how it has helped me with my appetite. I only eat when I am hungry and I don't crave food or snacks all day. When I do eat I get full very fast.  I even have to eat slow because if I eat fast and slightly over eat I feel so sick and full.  I haven't lost as much as others. I'm going to keep going I'm happy I'm losing and not gaining. This is my 3rd day on contrave and the side effects are what are worrying me. Severe nausea comes and goes throughout the day. Sometimes it gets so bad I can't even get up and move around. I have also had sporadic hot flashes and excessive sweating. The worst side effect I saw it was on the first and second day hello when I would have terrible drowsiness to the point where I had to hold my eyelids open just stay alert and aware of my surroundings. I'm not going to stop taking the medication but I'm worried because my doctor prescribed for me to increase a pill each week until I am on 4 pills a day. I'm a female 25 years old 5'3 &amp; weigh 253lbs. Is this too intense of an increase. Suggestions are appreciated. I have just started taking contrave and am on week two and will start week three tomorrow. So far I have gained back all the weight I lost before starting this medicine. I still eat the same foods I was eating before starting contrave. The only change I have is that when I do eat it makes my stomach feel extremely bloated after eating for about 30 minutes to 1 hour then I feel &quot;normal&quot; again. There is no boost of energy. I don't know if this is how this medication is supposed to work but I am trying. I was hoping that for the price I would see results so far but unfortunately I am back at my uncomfortable stage again since gaining the 12 pounds I had lost already... Female 43 270.  After reading many reviews on this site I was very nervous about starting Contrave.  I have been battling my weight for as long as I can remember.  Recently I hit my highest point when I went on a medication for depression and anxiety.  I started the week of April 17 with a low carb diet as well.  1 week later I am down 9 pounds..  I haven't really had any of the side effects that some people talk about.  I did have a very bad migraine one day (never get) but other than that nothing I can't deal with.  At this point I am willing to try anything.  Today I start the 1 pill morning 1 pill evening regimen.  I am hoping with the increased dosage I will still feel ok.  I'm praying that this will help. Taking it for 3 weeks; now am at 2 in am and 2 in pm.   Had little dizziness which went away.  No other side effects.  Initially it made me hungrier which I thought was crazy.  This has had no impact on lessening my hunger or cravings. I'll be talking to my physician about it.  I don't see a need to continue this. LOVE Contrave. I have been on Contrave for some time now. 37 yrs old 5' 4&quot;. To date I am down 63 pounds :) I did not lose my weight overnight so do not get discouraged. I still get to have the foods I like just MUCH smaller portions. I get so full and stay satisfied until my next meal. I drink lots of water throughout the day. The only side effect I have had is cotton mouth jolly ranchers help a lot. I do like that they offer a coupon to help cover the cost my insurance does not cover it. When I first started taking Contrave my out of pocket with the coupon was $60.00 now I pay $90.00. I have no clue why the cost went up :( I have had several friends get on Contrave because of my results. My own doctor was very pleased as well. Contrave gave me heart issues and it makes you feel really sick.  Needs to be off the market I am about to be on week 2 of contrave. I have cut out all caffeinated beverages and sticking to a low fat/low cal diet and I am down 6 pounds. The first day was complete torture due to the nausea headache and vertigo but I am determined to not quit and be successful at this. I want to be able to feel as though I can do anything go anywhere and not have my weight dictate my path in life. I am 5ft 9 and weighed 262 and again on day 7 I am at 257. Just waiting on my scale now. Good luck everyone and don't get discouraged.. I am updating my previous review from 1/19/2017. I have now up to the full dose of Contrave\r\n",
            "(2  morning 2  night). I have never experienced ANY stomach upset ANY headache or any other listed side effect except I noticed on the first day when I up my dose I am extremely fatigued but was fine within 24 hours. I've quit craving an evening cocktail sugar and fast food and I stop eating when I'm full rather than stuffed. The 4-pill regimen has only been for about a week but I can certainly tell a difference. I will post an update when I notice any changes. I have lost 60 pounds in 5 months and this is the best thing I have ever done for weight loss.  First thing i did was empty house of bad foods then stopped carbonated drinks.  Drug is amazing in that I have to make myself eat some days.  A little concerned that 12 pound/month loss is not ho;going up this month.  Try this drug it may save your life. I start my fourth week of Contrave tomorrow. The 4 a day week. So far I've only lost 4-5 pounds but I've lost 3 inches in my waist 1 inch in my hips and chest. Pounds a good but inches are great. As far as side effects go constipation and mild head/neck ache since starting two in the morning. Starting weight 169 at 5'3 and 33 years old. My doctor gave me a discount card for this since insurance didn't cover it. Would've been $245 a month now only $90. I have been struggling with my weight for some time now and decided to speak with my Internist to see if she would give me a script for something that would curb my appetite for sweets &amp; fast food. She prescribed Contrave honestly I've never heard of this drug before. Did some research &amp; read everyone''s comments and honestly I was frightened by the many side effects. I'm so desperate to lose the weight I started my first dose today. I took the pill around 7:30 this morning and didn't begin to feel nauseated until around noon. Since most of the suggestions said to drink water to help with the nausea. I found when I ate a few saltine crackers the nausea went away. Then came a slight headache. Other than that I'm fine. Good luck everyone Best thing to ever happen to me.  I love this medication and will recommend it to anyone and everyone. Been on it since 12/15/16 and down 15 lbs.  Its not as much as the majority of other Contrave users have lost within 5 months but that is my fault.  I still eat what I want just less of it and I don't work out.  I'm sure if I ate better and got active I would lose more weight.  I have been lazy.\r\n",
            "In regards to side effects they were very strong for me.  I had nausea blurry vision and dizziness but learned to control it with protein.  I cannot express how much protein has helped me.  It has replaced my breakfast and I drink it along with coffee and grapefruit oil infused water.  I no longer crave or worry about food like before  This is only the 2nd full day that I have been on Contrave and absolutely zero side effects.  After just one day I lost 2 pounds.  Contrave made it to where I wasn't even hungry.  I had to remember to eat lunch.  In the evening was  a little more difficult.  I was hungry but I didn't gorge myself.  I am confidant that when I work up to the full dose twice a day that may help my cravings in the afternoon/evening.  My doctor told me to take the evening dose about 30 minutes prior to supper.  I will post an update in a few weeks but I am excited about this new drug. I have been taking Contrave for 3 months. As of yesterday I have lost 1 pounds.\r\n",
            "\r\n",
            "I have never had a weight problem but had to take large amounts of steroids during my chemo for brain cancer. I have not been able to lose any of the weight I have gained until I tried Contrave.\r\n",
            "\r\n",
            "I have not experienced any side effects. I have PCOS and hypothyroidism so losing weight is difficult for me. My Doctor prescribed Contrave 3 months ago. At first the side effects were very difficult. I was nauseated and I felt really dizzy. At first I didn't lose that much weight with it either; however after about 2 weeks started losing weight and am currently down 25 pounds. I was very lucky as my prescription drug insurance changed at the beginning of this year and the new plan covers it with only a copay of $80 for a 3-months supply. I am thrilled with that. I have had constipation but nothing that I cannot handle.  I would suggest this drug if you have metabolic diseases. For me the cravings disappeared but I feel my body is burning more calories in the process. I've been taking contrave for 2 weeks and 3 days. Every since I started I get bad stomach cramps after I eat. It doesn't matter if it's a well proportioned healthy nutritious meal or a unhealthy meal it happens after every meal. I feel nauseous a little still and in the beginning I felt nauseous more frequently. I feel energetic sometimes tired but that depends on my amount of sleep. For the most part I feel energetic. Since I started taking this pill I don't ever feel hungry I have to remind myself to eat every 2-3 hours or I will only eat once a day which is terrible. So all in all the side effects are not worth it. This will be my last day because the stomach cramps have become a inconvenience and make me miserable after eating. I have been on this for 4 months initially for weight loss to reduce blood sugar. I have lost 40 pounds and 4 inches of waist.  The scale down program is amazing and frankly I would make any co pay to get this result rather than take diabetes meds. I am wearing clothing I haven't worn in over 10 years. My only side affect is constipation which is slowly subsiding and hot flashes/sweating so I walk around with hankies.  On the whole this drug is amazing. I am more active and focused and less moody too. I've been on this med for 2 months and I've lost 22 pounds. Once you get over the hurdles like the jitters headaches and upset stomach..the med really is a dream. I have a binge eating disorder and OCD. This has curbed that need to keep eating and a lot of other problems related to the OCD. I'm less obsessive which leads to less compulsions and not spending all my hard earned money on take out online shopping and other forms of useles spending. \r\n",
            "\r\n",
            "I started out rather heavy 353 and I honestly can say it's really amazing to not have that urge to eat all the time. It's amazing what you can focus on when food is not on your mind 24/7. It's nice being focused and I can't wait to see where I'm at in a year. \r\n",
            "\r\n",
            "It's a 9 because it's $$$ I was taking contrave for 4 weeks. The nausea NEVER stopped. It made me feel weak and i was getting hot flashes.\r\n",
            "On top of that. Didn't even lose one pound. Worst medication ever. I had a bad experience with Contrave. First day I took it I started to itch. Had to take an allergy pill to help. I started becoming light headed I had blurry vision &amp; upset stomach on the second pill. Didn't work for me. I may be allergic to what's in it. Had to pay out of pocket insurance did not cover. Waste of money. :( I took Cantrave for five months under a physician monitored program.  After three months there were no noticeable effects of the drug.   I started to regain the weight for two months while on the drug.  I went off the drug and five months later I am back where I started and several hundred dollars out of pocket.  My physician told me it was good for long-term use but that did not prove the case for me.  It was not effective after ninety days. I just started week 3 taking 2 pills in the AM. So far I've been one of the lucky ones.  I've had absolutely no side effects.  I don't think about food 24/7 like before.  Also I'm not binging at night like before.  Junk food just doesn't have the appeal it once did. I do get hungry but fill up much quicker now.  I've lost 7 pounds in the first 2 weeks. I have been on contrave for 5 months now. I started at 219 I am now 183.\r\r\n",
            "I cannot say enough about this medicine..\r\r\n",
            "No jitters no nausea or headaches.\r\r\n",
            "Controls my cravings all day.\r\r\n",
            "I would recommend it to serious people that will take it as directed and truly wantbto drop weight. I look \r\r\n",
            "Forward to the next few months to see how much more I can go my goal is145... Do not take this medication. I only took one and became very nauseous. I saw that most of the reviews were negative but I thought I would be the one it would help. I took it yesterday and am still sick today with nausea headache and fatigue. I do not recommend at all. June 18 2017 - I started taking Contrave at the end of January 2017. In the middle of March I added two Garcinia Gambogia (95%) and 3 tablespoons of apple cider vinegar mixed with any fruit juice on a daily basis.  I am female and started out weighing 213 pounds. As of today I have lost 26 pounds. This weight-loss medicine has helped me tremendously and I am looking forward to the next few months.  If you are considering this medication be sure and look for the half price coupon. It will save you lots of $$$.  Good luck. I'm into month three with Contrave. It's has curbed my cravings for sweets. Food was constantly on my mind and now food doesn't own me. That alone is a miracle. I have only lost 10 pounds but that is my fault since I still eat burgers (albeit not the whole thing like before) and haven't exercised. But I haven't gained weight which is what I was doing beforehand. I'm just happy having a 'normal' relationship with food now. I really wanted this medication to work and took it for 2 weeks.  The side effects were unbearable (I am not a weenie)...  Headaches nausea dizziness and tinnitus were continuous.  I think you lose weight on this medication because you feel so miserable you don't even think about eating.  I want to lose weight but don't want to feel totally crappy doing it.  Back to weight watchers for me.. BTW-I dos lose 6 pounds in 2 weeks but not worth the side effects.. I am only on day 1 and took 1 pill this morning and 1 this afternoon (not knowing I was only suppose to take one daily for the first week)  I feel fine although I fell asleep at work I got extremely tired after my lunch meal(gumbo) and my legs feel like they need to be stretched every time I stand up. No dizziness and nausea as most have said. thankfully and hopefully this works for me. 245weight looking to drop 45lbs. I have been on Contrave for almost 3 weeks and I have lost a total of 9lbs. I am counting my calorie intake and exercising as well. I am up to 2 pills in the morning and 1 pill in the evening.I do find that when I take the 1 pill in the evening I get hungry and want to eat eat but I know how to control that by eating the right foods. Overall I love what Contrave has done for me. I started Contrave last month. Took one pill and had extreme side effects the first day. I was extremely dizzy nauseous tired and had a headache I wasn't able to shake for a few days. I didn't continue taking the pill because I had a busy week with work and was afraid I'd continue feeling like that. I restarted Contrave last Monday and just finished my first full week and am down 4lbs. I had barely any side affects the second time around besides feeling really tired by the middle of the day. It has cut my appetite in half and eliminated a lot of cravings. Hoping for even better results now starting week 2 and pills 2x a day. I started Contrave March 1 and as of March 19 I'm down 15 pounds. I'm very pleased with that amount of weight lost. I have not had any side effects so far. So I will continue on. I will check back later and give you an update what the full one month total weight lose was. I have lost 88 pounds in 10 months. I had some drowsiness and increased sweating at first but improved within a few weeks.. A small price to pay for the overall improvement in my quality of life. I believe the effectiveness depends upon the underlying reason for obesity. naltrexone lowers cravings and improves addictive behavior. My problem was the compulsion to binge eat high calorie foods. I don't know how effective it would be on obesity for other underlying reasons which may explain why it works for some and not for others. My life has improved and I can do things I have been unable to do in years. Very pleased. I started Contrave less than 4/mo ago. I have never provided a review before but feel I should with this drug. I have lost 17/lbs so far and it has been steadily going down. I am a counselor so as a result of my job I emotionally eat quite a bit. Contrave keeps my cravings &amp; stress eating from popping up so when I do eat it is easy to make the healthy choice. I am not jittery because it is not a stimulant. The only negatives have been constipation which I address with a stool softner. I also find that I don't consume as much alcohol which is not actually a downside unless you are trying to get drunk. Most of my office is now on this prescription and most have lost 5lbs per month. It isn't covered by our inurance but should be. Love it. I love this medicine was working so good no side effects went to the pharmacy to get more they told me was descontinued . I began Contrave in Sept 2015. I lost about 40 lbs by January mostly due to nausea at first but then because it helped me really consider if I needed more whenever I ate. I was able to keep this weight off for about a year. At that point I began to slowly see a creep back up on the scale. After 20 lbs returning and I was taking the max dose I determined that the side effects- eye focus problems and constipation- were no longer worth it. I stopped taking the pills and it took about 6 weeks before I felt like me again. It has been about 8 months and I am at my pre-Contrave weight again- such a defeat. About 2 weeks ago I decided to try again. I took 1 pill at night for the first 2 weeks and the nausea is there but not as bad as before. I'd rather weigh 1000 lbs than to take another one of these pills.  Was prescribed this by a PA who thought it was better that addipex.  I didn't even take the full dose.  Within 30 mins after taking just 1 pill I was deathly sick.  I couldn't even hold my head up.  Dizzy headache nauseated throwing up can't breathe.  feeling like  death it was so bad.  Nothing is worth feeling this bad.  1 is the lowest rating it would allow.  But my rating is a NEGATIVE 1000 It is only the 3rd day but I thought I would share. Although it makes me very tired I actually already eat less. My doctor didn't want to prescribe Adepex because of the side effects. I am a 6'2'' woman the looks I get for being super blonde and large is a little uncomfortable. I'm beautiful but I am too big. I am writing because I have faith in this medicine already for some odd reason. I would be happy with loosing 3 pounds a week until the 100 extra is gone. Just letting the women out there know you are beautiful now but you deserve to be a size you want to be. Wow in love so far.. Third day and I have no appetite at all and when I eat it's a couple bits and I'm full. I don't know how it's working so fast but I'm loving it I will say one thing though I could literally sleep forever that's all I found to be negative I've been on Contrave 3 weeks now. The first week I was so sleepy on the drive home exhausted feeling. It's not as bad now but I wake up not feeling completely rested.  I haven't lost much and I do find the weigh in's everyday slightly discouraging. I haven't exercised much because I just haven't had the energy. Next week I'll try to incorporate that and try to be even more strict on my diet.  Going to keep going...but as of right now I'm not sure if it's helping or not. Day 3 here. First day felt completely normal yesterday kicked my butt. About 6 hours after my dose I felt super light headed and queasy for about 3 hours. Other than that I'm pretty hopeful and excited to see how well it works for me with diet and exercise. Some of the reviews I've read and seen are discouraging but I'm staying strong. I have always thought of trying out a weight loss pill but the only option seemed to be accepting being jittery. My psychiatrist started me on Contrave and have been taking them for three months. I'm down 40 lbs. I also noticed within the first two weeks that I didn't want to smoke cigarettes as much. It's actually listed in the safety info that contrave is also used for smoking cessation so doctor said this made sense. I have had NO negative side effects I love the Scale Down Program and couldn't say enough to outline all of the reasons I love this medication so much.. Unless you REALLY need this drug I do not recommend it. That being said if you are 80-100+lbs overweight it is worth a try. It has cut my appetite/cravings for any food not just junk. Female 30 5'9&quot; starting wt 260(ish). Started Contrave approx 6 weeks ago; have had nearly every side effect: nausea constipation headache dizziness trouble sleeping dry mouth bad taste in mouth and tremors. I also got two of the less common ones: tinnitus (ringing in the ears) and menstrual irregularities. Most of the side effects DO go away. I still get migraines a couple times a week/a few times a wk before this. The constipation trouble sleeping and tinnitus remain. I am down 16lbs in 6 wks tho. Would 2-3lbs be more if I was less constipated I started the meds on Oct.10 and I had severe nausea and fatigued for the first 2 weeks. I'm only on week 3 but I have gained 2lbs. I exercise regardless but I have read some reviews from ppl who say..wait until week 4 to see results.. I'm praying because I have thyroid which cause you to be fatigued more than the average person already so this med added to that.. I'm going to continue to take all of it.. I will respond again once I finish this first round\r\r\n",
            "\r\r\n",
            "Hopeful I have just completed my first month on Contrave and I have lost 15 lbs.  I also made a huge diet change cutting carbs/sugars and started working out on the treadmill 30 min in the mornings.  My all day energy has really increased.  I was skimming the reviews and thankfully I have not had any of the side affects that others have had.  I make sure to take after I've had some breakfast like I do with vitamins.  The only challenge I have found is getting all fours pills in.  I've got to carry them in the evening to ensure I have them with me to take.  I have had a small bit of constipation but I have increased my daily fiber pills and things got better.  I'm looking forward in seeing what month 2 can do for me :) Unless you are extremely obese (&gt;350 pounds) and have no other options avoid this medication at all costs. Side effects for me were severe nausea vomiting constantly heart palpitations (which have not gone away even after stopping the medicine) chills terrible body aches delusions fatigue insomnia bizarre dreams and apathy. Even after stopping the medicine I can still feel after effects. This drug needs to be investigated for safety cause someone I know also had close to the same side effects as me. I did lose 2 pounds the first week but I believe it was cause I had no desire to eat and the constant vomiting. It's also very expensive. Yesterday was my first day.  I slept all day and had a headache. I felt strange. Today I slept half the day but didn't feel as strange as yesterday. I'm hungry but nothing sounds good to eat so I don't care to eat. I started Contrave in early February at first I did not lose any weight but I could feel myself getting fuller faster especially as the dosage increased. For the month I have been on the full dosage I have lost 20 pounds. Sometimes I do not have a desire to eat often this is due to nausea. I have felt more energized and motivated to work out. The only side effects I continue to have are a dry mouth and trouble sleeping. Both problems are well worth it to me. I am 34 yrs old 5'6  mom of 6 kids. My youngest is 7 mo old. And this is the heaviest I've been. I started Contrave 3 weeks ago. My beginning weight was 242 and I've lost 18 lbs in 3 wks. This has been with strict calorie restriction and walking 30 mins to an hour daily if I can. Contrave keeps my appetite in check and I forget to eat sometimes. I've had no side effects. I'm also doing the scale down program too. So far Contrave has been great. I'll update again after my 2nd month.. This is my second time trying this medication. The first time I was not ready and didn't really make any lifestyle changes and didn't lose weight. So my Dr recommend it again and even said that he was going to take it too. That had me motivated and needless to say when I went back for my month follow up he walked right past me because he said he almost didn't recognize me. I have been on this medication for about 6 months and I'm down 37lbs. Largest weight loss in my life.. I started at 264lb. I don't exercise but I have been practicing clean eating. Only eating salmon and no other meat and eating veggies and fruit. It's been working.... and my Dr is also down some lbs... I've taken contrave because when I took the first pilla few hours later I had the worst headache but I had read and understand the side effects. I continued until day 4 and the headaches got worse. My hands were shakingI had lost my appetite completely. Being that I work in pharmacy both the pharmacist an technicians expressed their concerns from the moment I decided to fill my prescription. I just kept on getting this bad feeling during those 4days I had taken contrave. I later come to find out that contrave controls some of your brain function that sends signals to your stomach so it thinks you have no appetite. But while its doing that to your nuero functions it can also cause you to have seizures. I hate thismedication never again. I have lost 40 pounds in 6 months using a combination of Contrave walking 2 miles 5 days a week and increasing water intake. Contrave gave me the power to better control my food choices and the amount I was consuming. I have had almost no side effects (slight headaches though not abnormal for me and mild constipation). I would recommend it. I was a bit nervous about starting contrave due to all the listed side affects which sound scary. My healthcare professional said the suicidal thoughts would probably occur in someone under 18 y/o. She didn't have any comment on the part about seizures. Sister and I tried it on the same day. Sister took hers and panicked thought she was dying so she didn't take any more. I have a high tolerance for everything so the dizziness and sudden nausousness didn't alarm me as much. Make sure you don't have anywhere to go when you 1st try it. First week was a little rough I got immune to it. It does suppress my appetite but not much. I've lost inches b/c I have energy to go to the gym now but my weight is about  the same as it was 2 months ago. I started Contrave 3/18/15...it is now 6/27/15....I went from 226 to 175lbs. This medication is amazing. I do not experience anything unusual I have increased my exercise 200% and no longer eat at night. The program that goes with it Scaledown helps me monitor my weight so that I can see what foods causes weight gain as well as weight loss. Definitely would recommend this medication... I took the one pill 3 days ago and is still experiencing tiredness and no appetite. I was so sleepy and could not stay up while at work. I will not take the pill again.. The fact that I am still having the affect 3 days later speaks volumes and is not a good thing. I was so excited to start taking Contrave after reading all these reviews. I did not have any side effects. I took Contrave for 1 month and did not lose any weight. I signed up for the Scaledown scale and liked the fact of weighing in daily and being accountable. I was disappointed to not have any weight change but to fluctuate 2 lbs every few days. I was eating 1200-1500 calories a day as well. Time to try a different medication. I started contrave in April 2015 and I have lost 80 lbs. I weighed 260.  I am a firm believer of this medicine.  I had to stop taking it because they changed manufacturers from Takada to Orexigen and the price went from  $60 to over $90. I am on medicare and have no other insurance to help the cost. I wanted to lose about 20 more pounds or so but since this happened I pray that I won't gain the weight back.  So far on Contrave I have not gained any on the weight I lost but I can tell a difference now that I have stopped taking it.  It scares me I don't want to gain weight.. Good luck to everyone maybe we all can get together and contact this new manufacturer and get them to lower the price.. Ok I've started contrave first day . I hope it helps me like the others. I'm 52 and my wt is 168 (to much for my short self) . I also had a total hysterectomy at the age of 33. I'm 36 now with thyroid issues too so I need some help. I hope it helps me . Just start on 5 Oct at 278lb - been tracking food and exercise in fitnesspal. Minor side effects that pass quickly. I asked doctor for this as it contains buprion which I was on nearly 16 years ago. I lost weight while on that and was able to maintain for some time. Due to lifestyle changes stress bad foot and age (51 now) I gained a lot of weight in the past 10 years and have been trying so many different ways to get control back but was not having success. Since being on contrave I feel more focused don't need to snack between meals and am already down to 272.5lb. I really hope I have the success some other have had - good luck to everyone whose fighting to control their weight it's hard for some of us but not impossible 6'3&quot; and 314 lbs when I started Contrave nearly 3 weeks ago.  I'm still ramping up the dosage.  Right now I'm at 304.  No side effects so far for me.  Appetite is way down and cravings nearly gone.  Have to watch my blood sugar closely from getting too low.    Ramping down on diabetes meds.  Blood pressure is lower than it has been in years.  Portion control is much easier than I ever remember. I started on Contrave 7/23/15 as of 10/1/15.  I  weighed 199 to start as of today I weight 178. In two months 8 days I have lost 21 pounds. I want to lose about 50 more pounds.  It works great. I take 2 at 7:00am and 2 at 3:30pm. I didn't have any side effects. My insurance does cover the medication. I love it. This is truly a mind altering drug. Takes the lust with food out of your mind. I had difficulty the first two days I went from 3/day to four..so I backed off to 3 again for another week and then did fine when I increased. I do have headaches but I have never had the nausea ppl talk about except for the day I increased to 4. I have asthma and hypertension. Both are doing well on this drug. I have lost 11.9 lbs in 5 weeks. I do not feel deprived. I still enjoy an occasional sweet treat and have still lost weight on those days. The main thing that I have eliminated is snacking. I really don't have any desire to do that. I drink a lot more water now too. This drug does seems to give a dry mouth.  Very happy with this drug. I am struggling with menopausal weight gain.  I've been on Contrave for 3 days and I'm starving all day. A little bit of nausea but not enough to quit the medicine just yet. I'll follow up next month. I have been taking Contrave for about a year and a half now. Within the first 3-4 months I lost a total of 32lbs. I have never had any side effects while on it. The reason it does not get a perfect rating is because last October a new company purchased and started producing it. Since then they have been price gauging and ripping people off. The previous company charged $60/bottle; the new company charges $90. Good luck finding an insurance company that covers it; 99% don't. My doctor and I are looking for other options now. Not very many people can afford paying over a $1000/yr for medicine. Unless they lower the price I don't foresee them lasting much longer which is sad because it really is a great medication. I took Contrave for 2 weeks but didn't lose any weight it did help with some of my cravings and I felt like I was eating a lot less food. It made me feel Tipsy and felt like it was affecting my memory. I can't believe that people are loosing all this weight and I'm still at my start weight. What am I doing wrong... I have been on Contrave for 5 weeks now started at 360lbs when I went to the Dr. to get it prescribed and weighed in at 328 this morning so down 32lbs. Contrave is not a magic pill unfortunately no such thing exists or none of us would be overweight or obese. However what I feel it did for me was give me motivation which is exactly what my Dr. told me it would help do. I haven't been this razor focused on eating clean lifting heavy and doing cardio in over 10 years. Paired with morning fasted cardio clean diet of 5 meals a day high protien/moderate fat/low-moderate carb and 5x a week of weight lifting Contrave can be an amazing boost and the edge you need to actually want to stick with it. I have had zero side effects. Stay focused I have been on Contrave for almost 11 months now. I just hit the 100 lb weight loss mark a few days ago and am now at 103 lbs lost. As I've said before in these reviews it's been amazing for me. Low side effects and so much relief from my food ADDICTION. I didn't really know  that until this med let me take a step back from it and I could see exactly how all-consuming and crushing an addiction it was. I never had the nausea or headaches. So far I'm losing weight only be using for a week. I began taking this medication Sunday morning. About 2 hours after I took the first pill. I began having painful stomach cramps that began near my diaphragm and moved all over my stomach. I also started in with diarrhea. Monday after taking it I still had the diarrhea but was also feeling very queasy. This morning I took the last pill I will ever take. I still had the diarrhea but I  also had an unimaginably painful migraine and started vomiting uncontrollably. It was so bad that I even aspirated it a couple times because I couldn't stop long enough to take a breath. I was in the ER from 10am-3pm on nausea and pain meds. I have never felt like I was going to die until today. Please be careful while on this medication. Starting weight 194 3 weeks later 181. Very few side effectsfill up faster curbs cravings and  I am happier. Been on Contrave for a month. I GAINED WEIGHT. 4 LBS and terrible side effects dry mouth and constant headaches for the first two weeks and night sweats which have finally stopped. When I take the full dose I can't sleep and feel dizzy. I will use up the rest of the bottle and see what happens. Just started the 21 Day Fix and see if I can lose the 4lbs I gained. \r\n",
            "Also the Scale Down scale is inaccurate. compared to my weight watchers that is right next to it Scale Down is 1.5 lb more. I am on day 4 taking the medication. The only side effect I had was on day 1. The best way to describe it is that fuzzy a little sick to your stomach feeling you have when you step off a roller coaster. It only lasted the first day and was very tolerable. If you eat a tiny protein snack every 3 hours I think it helps or In my case prevents the nausea. So I'm on day 4 and I'm down 3 and a half pounds. I am struggling with weight gain due to menopause and my doctor thought contrave could be the help I need. I am also doing Leslie Sansone's Miracle Miles in home walking program. I am so hopeful that this works.. I will update in a few weeks. At first I had a few headaches and lost 6lbs in 30 days. But what is really amazing is that it made me nauseous to drink alcohol. After 4 weeks I was to celebrate with a nice healthy dinner including wine but after drinking 1/2 glass it made me feel so bad I had to chug water to not vomit. Now I can't even think about having alcohol because of how it made me feel. Contrave should be marketed for alcohol addiction. On a negative side after 30 days I have severe cravings for sweets which I have not had before. I plan to continue Contrave for the full 90 days so time will tell if it is worth it. Stay tuned. I'm a 35 year old male with a BMI of 40 healthy blood pressure and no diabetes. Last year I was diagnosed with Binge Eating disorder. Cognitive therapy and DBT has been extremely helpful with my condition but it's not 100%.  Contrave has provided that extra bit of a safety net that I need when I'm struggling.  It doesnt make me less hungry but the Naltrexone blocks the positive feedback from my overeating  stopping the cycle and helping to break my unhealthy associations with food.  I've never experienced nausea while on the full dosage.  The main drawback for me is that Contrave is expensive since my insurance does not cover it.  Considering asking my doctor if we can titrate me on a similar dose of generic Naltrexone and Bupropion. I cannot say enough positive things about Contrave. I started the end of June with the 1 pill and then 2 and so on and that first month I didnt see a difference really in my appetite. Once i got my second bottle and started on the full dose...drastic difference. I eat 1/4 of what I normally do portion wise...less snacks/meals a day. And most importantly i have NO desire to eat just to eat. I am not addicted to food anymore. I actually have to make myself eat. I am not a weigher because I obsess but since i started the full dose a lil over a month ago i have lost 26 inches all over. Everyone has noticed my weight loss...cashiers at stores even lol its significant. Not to mention I am just happier in general. I'm on my 3rd day with Contrave. I noticed some dizziness hot flashes (which I didn't know was a side effect). I can't really tell if my appetite is suppressed since most of my prior overeating has been stress related. So I'm figuring out the difference between real hunger &amp; stress hunger. I previously took Adipex for 9 months and lost 40lb before it quit working . Then gained 21lb back when stress levels sky rocketed on my job. They're still high but I really hope Contrave works. I hoping to lose 30 pounds. Nothing yet but it's early in the game. I have been trying to lose weight since October 2015. Well long before that but October was when I became desperate. I suffer from depression which had made me gain 16lbs in 2015 alone. I went to my doctor and asked about Contrave after doing extensive research. I was on Wellbutrin for depression and I felt like it had stopped working so I opted to go off of it and that allowed me to start Contrave. I filled my prescription on December 16th. The drug made me  tired but I never woke up tired. I woke up feeling very well rested. Very slight headaches now and then but nothing horrible. That was the only side effects I have had. It is 1/3/16 now. I went from 216 to 204lbs today. I'm loving it. I recently started Contrave. I lost 10 pounds in a week and a half. It's been interesting. It's like I am hungry but I don't want to eat and I'm okay with it. I changed my routine up a bit and now it's going really well. I eat a really big healthy breakfast skip lunch (I'm really busy then) and then I eat a light dinner. I make sure to drink plenty of water. \r\n",
            "\r\n",
            "I started with one pill a day and then moved to two. I had a pretty intense panic attack so I had to stop taking it. I have started back again but only with one pill a day. Two is obviously more effective but Not at the risk of having panic attacks. This is my 3rd month taking Contrave and have lost 10 lbs.   \r\r\n",
            "I am OK with losing the weight slowly.  I am still taking 1 pill \r\r\n",
            "in the morning and 1 in the evening.   Contrave keeps me from\r\r\n",
            "craving sweet treats and that is a plus for me. I read one of the ladies comments where she said she began to bleed.  I also have that problem. \r\r\n",
            "I am not sure if it is Contrave or if it&rsquo;s a Menopausal problem. \r\r\n",
            "I have visited my OBGYN to rule out any other complications before \r\r\n",
            "I stop taking Contrave.  My doctor has scheduled me for an outpatient\r\r\n",
            "D&amp;C Hysteroscopy and myosure. Let me know where you found Contrave cause bleeding I started Contrave on Monday and it is now Saturday.  I have lost 4.8 lbs.  To me that is absolutely amazing as I am hypothyroid and have not lost more than a pound or 2 in the last 8 years.  I am praying that this continues to work.  I want to lose 50 lbs so I can be around to watch my children grow up.  I have been so miserable for so long and felt nothing would ever help me.  I am loving this drug.  I am struggling with a few side effects: dizziness racing heart and trouble sleeping.  The dizziness goes away when I drink water so I think my body is just keeping me hydrated.  The racing heart is usually when I sleep.  I will talk to my doctor about that.  All in all though I now have hope which is more than I've had in a long time. I have been on and off this medicine for a year or so and what I've found is that when I stay on it and take it like I'm supposed to I lose weight and eat healthier.  When  go off I eat horribly but it's honestly more of me going off my diet so I don't bother with the Contrave.  Now I have been taking it faithfully since February 1st and eating low carb and I'm down over 25 lbs.  I think it does really work and it helps me make better choices.  My main reason for this review is to let all of the &quot;newbies&quot; know that the side effects will go away.  I felt horrible for the first few weeks as I was building up my dosage but I have absolutely no side effects now.  Start very slowly and gradually build up to the full dose I started contrave on Feb 2 2017 since then I am down 14lbs. I only eat when I am hungry and I stopped craving foods. The only side effected I experience was crazy dreams. I stopped smoking 2 years ago and gained all my weight not only am I losing weight it stopped cigarette cravings. It has made me more alert of my surroundings plus making healthy decisions. I'm now taking 4 pills a day and I love it. If you have struggled to lose weight I highly suggest that you give this a chance. Started this medication on 11/3 and I&rsquo;m down 21lbs. My problem is definitely psychological/mental and Contrave appealed to me because it helps with the chemical levels in your brain. Started seeing a change on the second day. Not wanting the junk food and not as much. Was automatically choosing healthier food not even thinking about it. Was satisfied with having healthy foods and not feeling deprived. Also gave me the want to exercise and not feel like I had to drag myself to the gym. Did see the &ldquo;effectiveness&rdquo; of it wear off as I got closer to upping the dose which concerns me that after hitting the 4 pills a day I&rsquo;m gonna stall out. Side effects: queasy after taking it and dry mouth like crazy. but makes me drink more water so + &amp; - I've been on 1 pill a day for a week now. The only bothersome side effect had been the restless legs and insomnia. I do great during the day but this lack of sleep is going to catch up with me. I'm also scared to get on the scale. I have taken contrave for 6 weeks. Slight nausea. Slight constipation. I added yogurt and I'm fine. Problem is I had a black out last week. I lost 5-7 hours of my day. I have lost 13 pounds. Now o need to be off contrave. And it lasts two weeks in my system. So family is freaking and watching me like I'm a crazy person. Oh well. I hope I recover. Starting weight 280.  In Sept. of 2016 I started taking adapex (phentermine) and took that for 3 months.   I lost about 20 pounds in those 3 months.  I had severe dry mouth heart palpitations insomnia and constipation.   When I switched over to Contrave I only experienced a slight bit of dry mouth and sleeplessness with a slight elevation of my blood pressure.  I took Contrave for 9 months and lost another 50 pounds by eating right and exercising.  After stopping Contrave I have regained 12 pounds in 6 months.  Mainly due to not exercising and significant increase in appetite.  I will retake the medication and will update my progress as I work toward my goal of 190.  This is a good medication. I actually started Contrave on November 21 2015 and lost a couple of pounds but gained back Christmas.  It took until Jan. 2 to work up to the full dose; then I really started to lose. Since Jan. 2 (today is Jan. 30)  I have lost a total of 18 pounds with Contrave the Scale-Down program (weighing daily) low carb diet and 23 minutes on the  elliptical almost every day.   About mid-Jan I hit a plateau and hovered around the same weight for two weeks.   I start losing again by cutting back food portions and cutting some fat out of the Atkins approach.  I also doubled my elliptical workout to 46 minutes a day at least 5 days a week.  That got the weight loss going again.  I haven't had this kind of success since the old diet pill days. I've been taking this for 4 weeks and have lost 20lbs. I don't have cravings and just a few bites and I'm full. I drink a lot of water. Good My starting weight was 220 lb. When I started using Contrave 2 1/2 weeks ago. Not long I know but I have already lost 6 lb. I have been gaining 10 lb. every year since I graduated high school (6 years ago). Do the math. It was getting out of control and I have tried everything and couldn't start losing no matter how much I exercised or dieted. The only side effect I have felt is I get very weepy and cry for absolutely no reason at all this happened the day I up my dosage (as directed by my doctor.) Wanted so much for this to work for me but I had side effects that were not bearable such as severe agitation high anxiety and irritability from one pill. I just took my first pill literally 5 minutes ago.  I have to say I'm terrified of the side effects but at 56 years only 5'1 and 230 pounds I'm at my wits end with my weight.  I hope to be able to report back that I've had no side effects and that it's working.  Reading all the reviews has helped.  Fingers crossed it works.\r\n",
            "\r\n",
            "So after one week I'm done.  I can't take the jittery feeling almost fell at work yesterday I was walking like I was drunk.  Trying to get a normal sentence out was difficult my mind was just not right.  I lost 3 pounds but I don't think it was the contrave that did it.  No other side effects though just feeling like I was higher than a kite  :( For me Contrave was my last chance before surgery. I started out a 300lbs and yesterday I weighed in at 249. The first month the nausea was awful. I was almost ready to give up when I found someone that suggested Dramamine. I take one Dramamine every morning and the full 4 pill dosage of Contrave with no more nausea.  Other side effects for me have been almost constant constipation and very light sleep. One thing I want to make very clear is that Contrave doesn't make you lose weight by itself. It gets your mind in a place where you can do it yourself. It puts you in control instead of the cravings. I have lost 50lbs and I thank Contrave but I still worked my ass off to get here.  Day 10. No side effects at all. No weight loss at all. 5'4&quot; female 160 pounds 33.7% body fat. In the past I have taken phentermine with no results Wellbutrin with no results. Will keep increasing the dose as per the rx and see if it eventually works. Doc gave me a discount card but it still cost me $70 for a month. No insurance coverage. I'm nearing my 3rd weeks and I feel my cravings have increased. I take one in the AM and one in the PM. I am always hungry which wasn't the case before staring this medication. The first week I had a severe headache that awakened me at 4 AM for 5 days in a row. Week 2 I am very sleepy which actually helps because I'm in bed by 10:30 PM where as before I'd be up until after midnight. \r\n",
            "I'll report back after week 3 to advise if there's been any improvements. It definitely kills my appetite. However I'm dizzy constipated and have headaches.  I also feel a bit anxious.  I'm having trouble remembering things as well. That's the worst part.  I've been on the medication for 2 months.I'm only eating about 1000 calories a day and have only lost 3 pounds. Granted I've had bronchitis twice during this time and haven't exercised.  I will give this another month because I have about that much of it left. But if I don't lose something during that time I'm done. I have been on Contrave since jan 23rd 2015.  The first month I did not notice a difference in my eating habits but I lost 2 pounds.  I did experience constipation almost every day in the first 3 weeks which gradually dissipated.  As of today I have lost 9 pounds (7 in the last 5 weeks).  I have found that I have lost my urges to overeat and to snack.  I have also noticed that I eat less during meals.  I am not trying to diet.  All of a sudden I just noticed that I am not thinking about food at all.  I have been only eating when I am hungry. (my stomach is literally growling before I think about it).  The one thing that I have been feeling that I am not sure is related to the drug or not is feeling dizzy when I ride the chairlift skiing. Day two and no side effects. Glad to skip the headaches. My appetite has almost gone away and eating is not as enjoyable. Hopefully this keeps up.  Just started yesterday.  No effects yet.  However my doctor said she would fight to have me on this medication and insurance turned it down the I tried the card supplied with Contrave and the pharmacy said they couldn't take it without insurance so I had to pay full amount.  Does anyone have any ideas to help me.  \r\r\n",
            "\r\r\n",
            "I am a VERY active 51 year old that has been fighting this weight it seems forever.  I keep working out harder and eating sensibly and still can't lose weight.  I really hope this helps me I love to be active and since getting a management position have gained 50 lbs.  I'm 250 - 5'9&quot;.\r\r\n",
            "\r\r\n",
            "I just hope I can afford it. I have just started this medicine today and I am hoping to have positive results. It is an expensive medication as it cost me $118 for a 30 day supply. I figured I will try it for 30 days to see what it does. I am in desperate need of help. I am a 38 year old female that is 5'5 and 294Lbs. I have low thyroid which does not help with motivation and I have lots of back pain that makes it hard to walk any distance. It is probably just in my head because today is just day one but I already feel like my head is in a positive place I feel motivated and I only ate half my lunch because I felt very content and full. Hoping for positive results.. Good luck to everyone. (Update)7 weeks on the contrave pill. 0 lbs lost. Still the side effect fatigue all the time still manage to exercise and diet. My doctor recommended 3 months on the pill but for me it is been a waste of money. Very disappointed. I'll stop taking them not willing to spend more money in something that doesn't work for me. I just finished the first week on Contrave. 52 yr old female 5'5 182. I was already taking Wellbutrin so I didn't have to adjust first week I cut my Wellbutrin dose in half and I will completely go off it as I titrated up. So no side effects. Lost 4 pounds the first week. Just started the two per day and I couldn't finish my salad for dinner because I was full. I have also been able to cut out wine I can't believe I'm not craving it. I'm hoping to lose 30 pounds and will add exercise. Update from my 3/5/17 post. \r\r\n",
            "So it has been one week since I started Contrave.  I have lost 9 lbs and I am very happy.  I am not craving sweets or junk food at all. My energy level is good although I haven't started any exercise yet waiting until upper respiratory  infection is completely gone.( nothing to do with Contrave). \r\r\n",
            "Making sure to drink a lot of water everyday.  After day 4 had some constipation  issues but I just added some prunes to my oatmeal and problem solved.  Definitely eating smaller amounts of good food because my mind is telling me I'm done. I like that a lot.\r\r\n",
            "Today I will begin taking 2. Hoping things remain the same I'm a little nervous reading the side effects that some others are having after increasing dose. Starting my third month on this medication to control my eating habits in order to lose weight. I started at 183 lbs.  I weighed in this morning at 180.6 lbs. The bupropion part has helped my mood and attitude but I see no change in inappropriate eating or cravings/desire for pizza ice cream etc. I pay $90 plus tax a month. UPDATE..SW 259 as of 2/27 CW 255.  Today is 3/13 CW 249 yes this is correct. I can't believe the scale. I am a shame to admit I still haven't incorporated exercise. For those who are reading this and can't decide based on these comments. You need to try it yourself I was so afraid to try it after reading what people were experiencing with the symptoms. I have no symptoms and I am doing 2 pills in the morning and 1 at night. My insurance covered it so I only paid $30.00 with coupon for a 120 pills. My doctor called and schedule a 6 week follow up appointment to see if its working. We're aiming for 5% OF MY BODY WEIGHT in 6 weeks. At this rate I will have surpass that goal. If this pill did not work for me my next option was surgery So far so good. Day two on contrave and I'm already down 4lbs. No side effects at all except I get fuller faster. Plus doctor gave me a little tip to not drink any carbination drinks while on it cause carbination makes ur tummy swell. I'm one full week off carbonated drinks and before I started I lost 5lbs. So in one week I'm down 6lbs. Drink lots and lots of water I am 5'4' female. My starting weight was 217 lbs.  I have been using  contrave for 3 weeks now.  My current weight is 200.  I was experiencing really bad headaches for the first week and went away.  I did notice my mood is a lot better. I'm more relaxed.  I sleep all night.  Before I had insomnia.  I  had the hardest time going to sleep so that would lead my having a drink at night or take some sort of sleep aid.  I would also wake 2-3 times a night and stay up at least an hour each time.  Now I sleep all night and have not had to drink or take any sleep aids. The only complaint I have is the constipation. I have been taking this medication for approximately l month  and have lost  23 pounds.  Have not had to take the tablet at night because I am not hungry.  I do have a little more energy but am having trouble with sleep.  It did cause me to have severe constipation.  My doctor told me to take pericolace. It is very expensive so I bought the cheaper equivalent.  I take one in the AM and 1 in the PM.  I take a bundle of medications which also cause constipation tiredness sleepiness drowsiness.  So I don't think the Contrave is  the problem but it did add to it. I do forget to eat and am worried about getting enough protein. So I bought ENSURE.  I seem to have more energy and forget to eat because I am not hungry. I started Contrave on September 17 and as of this morning I'm down 15 lbs. I also joined Weight Watchers on line to keep track of my calories and exercise. The only side effects I have is dry mouth which just requires me to drink more water which is a good thing and some constipation but I just increased my fiber water intake and used a stool softener and was back to normal within 4 days. My doctor wanted to put me on Lipitor because of my high cholesterol. I asked her to let me try to lose weight first. So to me the $90 is worth it so that I can avoid any type of prescriptions. I am on day 15 of taking Contrave. I took one pill/day for the first 10 days &amp; have been on 2/day for these last 5. Days 1-6: gnawing headache at least once/day; insatiable thirst; significant constipation. During that time I had decreased appetite but I think that may have been due to the constipation-there is just nowhere for the food to go. After &quot;clearing&quot; things out with miralax I have a more normal healthy appetite. No urge to binge and know when to stop. When I started 2 pills per day I was again very thirsty which is better in the last day or so. No headache with the increased dose. Down 2.4lbs but I haven't exercised at all so &quot;only&quot; 2.4lbs in 15days is perfectly fine with me. I look forward to seeing the long-term results. I have recently begun taking Contrave.  I am looking to loose 10 to 15 pounds.  It's not much to loose but to maintain it is the problem.  I've probably lost the same 10 lbs over and over again.  My Dr. said that's the beauty of contrave it helps in maintenance.  Day 3 into the program (1pill in the AM) I have begun to notice a decrease in the desire to eat. I tend to eat when I'm bored and that's my issue.  I have none of the side effects which so many mention. I will stick to my daily exercise lots of water and healthy eating and hopefully begin seeing more positive results by the end of the week. I am 47 5'11&quot; male with a BMI of 40.  I was considering bariatric surgery but decided to try Contrave first.  My starting weight was 287.  I'm now in week 3 of taking Contrave.  The first two weeks were fine no side effects and I noticed that my appetite was diminished.  I lost about 7 pounds.  Now at the start of week 3 I went up to 3 pills/day and the nausea hit big time.  I'll push through it and try to space out taking the pills during the day.  \r\r\n",
            "\r\r\n",
            "So the jury is still out.  Will check back in after the end of week 4. At first I was super nauseous on this medicine and would feel lightheaded. But then I realized I was taking my doses too close together. So now I take one at about seven when I wake up and then one at four when I get off work. The first one and I drink a ton of water with and I eat something with it.  After that I haven't had hardly any problems. I do found myself sweating excessively and a little hard to poop. But other than that it's amazing I do not crave alcohol or chocolate or ice cream near as much anymore. I think the side effects only last a few weeks. So if you can get through that you're golden. I have been taking contrive since August 18th and today is December 4th and I have have had great success. If you feel a little funny for the first week or two it is totally normal. Just a tiny bity jittery and a little constipation at first. It is all gone now. I originally started at 305 pounds and was able to get down to 275 pounds on my own. It took me a long time to loose my first 30 pounds 6 months to be precise I began to get discouraged. After talking to my doctor he thought I would do well on contrave. With contrive I have lost 40 pounds in less then 4 months. I don't have any side effects and I feel great. This medicine is changing my life and I am so grateful to have found it. Started Contrave 4/17/2017. It works lost 4 pounds no side affects except extreme dry mouth which I drinks plenty of water. I take 2 pills daily. I am excited about this healthy journey. I started taking Contrave Monday 24th (183lbs)  went back to the doctor Saturday29th (179lbs). So yes it is working for me 4lbs down and 3lbs of fat gone. I have not had any side effects and I pray it skips me... My goal is to be 160lbs by 11/21 if I lose more that will be terrific. However I know it's not a quick fix more of  a lifestyle change which is why I am a pescatarian and loving it. I believe if you do your part (no junk soda or bad carbs)  Contrave will do the rest. \r\n",
            "\r\n",
            "What makes it more worth the try was the cost. I use the coupon which discounted it to 90.00 plus my insurance covered it so I only paid 40.00 for a 30-day supply. Went to my doctor because I needed to lose 40 to 50 pounds. I have been on Contrave for three weeks and have lost six pounds. The only problem is my doc gave me Xanax as this keeps me calm as the Contrave makes me anxious.This medicine is not worth it. It makes me feel very wired. I guess I should have known when the Xanax was prescribed. I started taking Contrave for menopausal weight gain. I srtated it 1 week before my fiance left me for a millionairess.  Not sure if it was depression or contrave (likely a combination) but I lost almost 30 pounds in a month.  Now it's been 6 months and I'm down 34 pounds.  I was vomiting the first week but that went away quickly.  Only other side effect is slight muscle twitching.  I was barely overweight but no diet or exercise would take the excess weight off.  I'm thankful. I started taking Contrave Jan 2016.  I lost about 10lbs within 3 months.  I've been on/off it several times over the last 1.5 years.  It seems to work in the beginning (1st month) but then your body becomes adjusted to it.  10lbs is not worth the side effects and heart risks.  I've heard this crazy stories of folks losing upwards of 35lbs in 3 months.  Definitely didn't work that well for me.  Save your money and try eating less and exercising more. Started April 5th.took around 8am and by 10:30 I had to stop work because extremely dizzy nausea and wow so tired. Didn't take again for 2 days then tried again this time I now take at 3am go back to sleep so I sleep thru side effects.  3 days of doing this and so far so good..I do need an extra coffee thru day tho to keep awake. Have lost 2 lbs in week. Kind of scared going to 2 pills may wait another week. I'm a 36 year-old female 5'8&quot; 224 lbs. Only on week 2 of contrave. No weight loss yet but I'm hopeful...a little nausea and dizziness last week. Seems to be subsiding a bit this week. I have been on this Medicine for exactly 7 days and have lost 7 lbs...I haven't had any side effects everyone talks about. I heard everyone complains about being sick and I am wondering if they have quit Drinking while on this pill. \r\r\n",
            "\r\r\n",
            "I have cut my calories down.  I am also a part of the CONTRAVE Scale down program. \r\r\n",
            "they sent me a scale that using WIFI to tell them my weight everyday. Being Accountable is a good thing. \r\r\n",
            "\r\r\n",
            "I dont understand how this pill works but it does its magic on me and I am VERY HAPPY ..\r\r\n",
            "\r\r\n",
            "Anyways everyone dont give up. I have tried many different options for weight loss including weight loss surgery. Nothing has worked so far. I started taking Contrave 6 weeks ago and have lost 12 pounds so far. I am so pleased. The only side effect I seem to have so far is some sleepiness. As long as I am up and moving this does not bother me. What it seems to do is stop the cravings and give me the will power to keep me from eating. I stop when I am full and have no desire to snack at night. I am not really doing much for exercise at this point as I have such back problems because of my weight that anything I do is painful for me. I am hoping once I have gone down in weight a little exercise will be easier. First week I felt fatigue and almost stopped taking it. But I wasn't sure if it was the medicine or something else going on. Also almost immediately I had no desire to drink alcohol I was in the habit of drinking wine almost daily. So this was amazing to me. (reading more it's also used for stop smoking and drinking well that certainly happened for me) I've been taking it for about 2 months and I've lost 15 pounds and I'm also following a low carb diet too. I also found that my mood improved too...I feel less moody and just calmer and happier....which is making my boyfriend very happy. LOL I'm in my early 50's so I think I was going through the change and it was affecting my moods. Overall....it's been working great for me. I'm on my second week. I have had a headache for the first week and there is times my heart speeds up. I'm now doing 1 in morning and 1 night this was my first night and I couldn't stay asleep and don't feel rested and I'm sleepy but can't sleep. Not sure how I feel about this. I have a Co worker on it to and when she got to a full month she was unable to pee had to revive meds and she is back to 1 pill a day.. This works.  I took a break but am taking it again.  I am a 38 yr old female and started at 222 lbs and am 5'7 size 16.  In 6 month time I had lost 32 lbs size 12.  It calmed my cravings I even stopped drinking wine.  I stopped taking for 4 months gained 10 lbs back...I've been back on it for about 2 weeks and have lost 5 to 6 lbs ....the weight gain was my own fault and I stopped taking this over the holidays. I have been take this for about 3 weeks and have lost 13 pound I really can tell its help me with my craving and I'm also doing the scale down program and its make me aware of my food choice daily . I know this isn't magic pill but I'm in my late 40's and need  that extra push in the right direction ... Hi guys I been taking contrave since 2/23/16 &amp; started off at 243lbs and I'm  5' 1&quot;. I have lost to date 9.8lbs (233.2 lbs) and I think the low carb diet had a lot to do with the weight loss in 9 days too. Today I started doing an hour cardio at the gym &amp; I couldn't believe how quick it went by I think im getting a boost of energy from the med. So far no side effects &amp; im now on my 2nd week of meds 1 in the morning and another one in the evening. Hopefully this will keep up. I also use my fitness pal app to keep up with my diet and it's helped a lot as well. The medication was not covered by my insurance and it was going to be $150 but I signed up for the discount card which was great it saved me $95 plus a got a free scale from contrave. I have been on Contrave for a month and a half now and I am down 23 Lbs.  I would always enjoy a cocktail or two when I came home from work and felt like I needed it to unwind but this has totally changed that feeling.  I don't have a desire to drink and my appetite is definitely decreased.  This morning I was down at 216.  Two minor side effects I have experienced.  1. I get a feeling of nausea which discourages me from eating and 2.  I have been getting head aches all day.  Both well worth the results. New to Contrave.  Past my first week lost 2 lbs.  I did not change my eating habits but was very sleepy.  I can also say I love to drink wine (probably why the weight) and I tried it during week one and the next day had a headache so bad I thought my brain would explode.  Therefore guess what....I am not drinking wine.  It wasn't even hard to quit.  I am in week 2 and increased dosage.  Next warning high fatty foods.  I had a McDonalds cheeseburger and yes in fifteen minutes was in the bathroom wishing for death.  Again guess what no more fatty foods and again not hard to give up.  Its like you think about it but then go eh...nahhh not right now.  I think that makes you feel like you can have it later but you never actually do. Been on Contrave for three weeks and have lost 8lbs. I just started taking three pills a day. It took me longer to go up on dosage than it should havebut it took my body longer to adjust. I did have the jitters and did get nauseous when I upped the dosage but now I feel ok. I definitely get full quicker and no longer snack. I also noticed my craving dissipating. I am training with the couch to 5k bc on May 16th I'll be doing my second 5k. I've been taking Contrave for almost 1 month and I haven't lost much. I find the weigh in everyday very discouraging. I also don't think it's always accurate. I'll continue to take it for another month...if I don't see a difference by the I will stop taking it. I am 3 weeks in using this drug. I have a few medical issues that has contributed to weight gain. I do seem to have more energy during the day \r\n",
            "but I so far I don't like the side effects I am having.  Not sleeping well I still \r\n",
            "feel like I am starving all the time. Depression and anger issues too. By night time I feel so hungry I can't even get to sleep. Not sure if I should \r\n",
            "give this medication more time. I need to lose about 30 lbs or so. I did lose\r\n",
            "8 lbs the first 2 weeks but nothing the third week. I don't necessarily crave\r\n",
            "anything I just feel like I'm starving. I am 46 year old woman and I do\r\n",
            "have gastroparesis along with other illnesses. So I really need to get my\r\n",
            "weight down. I don't know what I'm doing wrong. It's May 13 the 2017 I'm in my second week of contrave so I now take 2 pills a day I go to 3 pills for week 3.  I am a 53 yr old male I started with a weight of 276 after 2 full weeks I'm at 266. The scaledown program is absolutely great. I weigh every morning the scale sends a cellular signal through my phone to scaledown they then send me a text to monitor my progress. They give me advise and encouragement. Really beneficial. I sure hope this continues to work for me I'm really tired of hearing the words morbidly obese.. Only downside is occasionally feeling nauseated dizzy mild headaches but nothing I can't tolerate. And of course the cost since my insurance Will not cover the medication my cost is $90 for a month supply. \n",
            "\n",
            "Summary:\n",
            "The first two weeks were horrible then the side effects subsided. I have envision myself at a certain weight and that is where I will be. The healthier looking me..\", \"Been on Contrave for 30 days. I lost no weight. \n",
            "\n",
            "\n",
            "Keywords: \n"
          ]
        },
        {
          "output_type": "stream",
          "name": "stderr",
          "text": [
            "/usr/local/lib/python3.7/dist-packages/sklearn/utils/deprecation.py:87: FutureWarning: Function get_feature_names is deprecated; get_feature_names is deprecated in 1.0 and will be removed in 1.2. Please use get_feature_names_out instead.\n",
            "  warnings.warn(msg, category=FutureWarning)\n"
          ]
        },
        {
          "output_type": "stream",
          "name": "stdout",
          "text": [
            "addictive\n",
            "hypertension\n",
            "drunk\n",
            "diabetic\n",
            "migraine\n",
            "medicationstarting\n",
            "cholesterol\n",
            "obesity\n",
            "caffeine\n",
            "pillstarted\n",
            "outpatient\n",
            "thanksgiving\n",
            "lol\n",
            "eh\n",
            "nahhh\n",
            "speedy\n",
            "quot\n",
            "wise\n",
            "loss\n",
            "dose\n",
            "drastic\n",
            "fix\n",
            "quot\n",
            "sugar\n",
            "quot\n",
            "update\n",
            "sw\n",
            "hi\n"
          ]
        }
      ],
      "source": [
        "medicine_name = \"Contrave\"\n",
        "ind = df_new[df_new['drugName']==medicine_name].index.values\n",
        "test = ind[0]\n",
        "print(\"\\nMedicine Name: \", medicine_name)\n",
        "print(\"\\nReview: \", ' '.join(df_new['review'][test]), \"\\n\")\n",
        "Summarizer(test)\n",
        "print(\"\\nKeywords: \")\n",
        "findFeatures(df_new['review'][test])"
      ]
    }
  ],
  "metadata": {
    "colab": {
      "collapsed_sections": [
        "CKRX-bAlyuF_",
        "Ztp16yJoy_Tr",
        "3-nmJe-VzJ0X",
        "5CLni2dUWmro",
        "3EodVOHF0cvo",
        "HJMLJ3VL0QsP",
        "-4gLIVyE00m9",
        "a_i_CcCh1UwV",
        "BCnko2s41BfF",
        "Xn-zv_zV1KCG",
        "dYS334y80Dz5",
        "eEdPfVA0zw6T"
      ],
      "provenance": []
    },
    "kernelspec": {
      "display_name": "Python 3.10.5 64-bit (windows store)",
      "language": "python",
      "name": "python3"
    },
    "language_info": {
      "codemirror_mode": {
        "name": "ipython",
        "version": 3
      },
      "file_extension": ".py",
      "mimetype": "text/x-python",
      "name": "python",
      "nbconvert_exporter": "python",
      "pygments_lexer": "ipython3",
      "version": "3.10.5"
    },
    "vscode": {
      "interpreter": {
        "hash": "32fe867fd68c1fc809d417687b9dc54cc1043017feb263921251f8c0fb94bcec"
      }
    }
  },
  "nbformat": 4,
  "nbformat_minor": 0
}